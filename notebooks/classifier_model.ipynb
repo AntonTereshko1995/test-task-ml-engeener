{
 "cells": [
  {
   "cell_type": "code",
   "execution_count": 1,
   "metadata": {},
   "outputs": [
    {
     "name": "stderr",
     "output_type": "stream",
     "text": [
      "/Users/a/.pyenv/versions/3.10.0/lib/python3.10/site-packages/tqdm/auto.py:21: TqdmWarning: IProgress not found. Please update jupyter and ipywidgets. See https://ipywidgets.readthedocs.io/en/stable/user_install.html\n",
      "  from .autonotebook import tqdm as notebook_tqdm\n"
     ]
    }
   ],
   "source": [
    "import sys\n",
    "sys.path.append(\"../\") \n",
    "\n",
    "from src.dataprep import transformations\n",
    "from src.train import trainer\n",
    "import pandas as pd\n",
    "from jobtools.arguments import ParamsNamespace"
   ]
  },
  {
   "cell_type": "code",
   "execution_count": 2,
   "metadata": {},
   "outputs": [],
   "source": [
    "data_path = \"../data/JobLevelData.xlsx\"\n",
    "params_file = \"../src/config/cat_boost_classifier.params.yml\""
   ]
  },
  {
   "cell_type": "code",
   "execution_count": 3,
   "metadata": {},
   "outputs": [],
   "source": [
    "data_frame = pd.read_excel(data_path)\n",
    "params = ParamsNamespace.load(params_file)\n",
    "feature_columns = params.data.features"
   ]
  },
  {
   "cell_type": "code",
   "execution_count": 5,
   "metadata": {},
   "outputs": [
    {
     "name": "stderr",
     "output_type": "stream",
     "text": [
      "/var/folders/b0/4xdt0q6s4jl21zpmq71dsq880000gn/T/ipykernel_27381/1920382429.py:3: FutureWarning: DataFrame.applymap has been deprecated. Use DataFrame.map instead.\n",
      "  data_frame = data_frame.applymap(lambda x: x.lower() if isinstance(x, str) else x)\n",
      "/var/folders/b0/4xdt0q6s4jl21zpmq71dsq880000gn/T/ipykernel_27381/1920382429.py:4: FutureWarning: DataFrame.applymap has been deprecated. Use DataFrame.map instead.\n",
      "  data_frame[feature_columns] = data_frame[feature_columns].applymap(transformations.clean_text)\n"
     ]
    }
   ],
   "source": [
    "data_frame = transformations.remove_empty_rows(data_frame, \"Column 1\")\n",
    "data_frame = transformations.set_low_register(data_frame)\n",
    "data_frame[feature_columns] = data_frame[feature_columns].applymap(transformations.clean_text)\n",
    "data_frame[\"Features\"] = transformations.combine_columns(data_frame, feature_columns)"
   ]
  },
  {
   "cell_type": "code",
   "execution_count": 6,
   "metadata": {},
   "outputs": [],
   "source": [
    "feature_vector = transformations.apply_multilabel_binarization(data_frame, \"Features\")"
   ]
  },
  {
   "cell_type": "code",
   "execution_count": 7,
   "metadata": {},
   "outputs": [
    {
     "data": {
      "text/plain": [
       "array([[0, 0, 0, 0, 0, 1],\n",
       "       [0, 0, 1, 1, 0, 0],\n",
       "       [1, 1, 0, 0, 0, 0],\n",
       "       ...,\n",
       "       [0, 0, 0, 1, 0, 0],\n",
       "       [0, 0, 0, 1, 0, 0],\n",
       "       [1, 0, 0, 0, 0, 0]])"
      ]
     },
     "execution_count": 7,
     "metadata": {},
     "output_type": "execute_result"
    }
   ],
   "source": [
    "feature_vector"
   ]
  },
  {
   "cell_type": "code",
   "execution_count": 8,
   "metadata": {},
   "outputs": [],
   "source": [
    "tfidf_label = transformations.apply_tfidf_vectorization(data_frame, params.data.label)"
   ]
  },
  {
   "cell_type": "code",
   "execution_count": 9,
   "metadata": {},
   "outputs": [],
   "source": [
    "from sklearn.model_selection import train_test_split\n",
    "X_train, X_test, y_train, y_test = train_test_split(tfidf_label, feature_vector, test_size=params.data.test_size, random_state=31)"
   ]
  },
  {
   "cell_type": "code",
   "execution_count": 10,
   "metadata": {},
   "outputs": [
    {
     "name": "stdout",
     "output_type": "stream",
     "text": [
      "Looking for best combination of parameters with objective neg_log_loss. Parameters are dict_keys(['depth', 'learning_rate', 'l2_leaf_reg', 'iterations'])\n",
      "Fitting 5 folds for each of 24 candidates, totalling 120 fits\n",
      "0:\tlearn: 0.6815936\ttotal: 69.9ms\tremaining: 34.9s\n",
      "0:\tlearn: 0.6796579\ttotal: 69.5ms\tremaining: 34.7s\n",
      "0:\tlearn: 0.6790915\ttotal: 69.6ms\tremaining: 34.7s\n",
      "0:\tlearn: 0.6791206\ttotal: 73.7ms\tremaining: 36.8s\n",
      "0:\tlearn: 0.6801719\ttotal: 64.9ms\tremaining: 32.4s\n",
      "0:\tlearn: 0.6380676\ttotal: 74.7ms\tremaining: 37.3s\n",
      "0:\tlearn: 0.6312015\ttotal: 76.5ms\tremaining: 38.2s\n",
      "0:\tlearn: 0.6259879\ttotal: 77.9ms\tremaining: 38.9s\n",
      "100:\tlearn: 0.2399948\ttotal: 804ms\tremaining: 3.18s\n",
      "100:\tlearn: 0.2480628\ttotal: 800ms\tremaining: 3.16s\n",
      "100:\tlearn: 0.2381465\ttotal: 1.75s\tremaining: 6.9s\n",
      "100:\tlearn: 0.2340057\ttotal: 1.73s\tremaining: 6.85s\n",
      "100:\tlearn: 0.1175390\ttotal: 1.76s\tremaining: 6.95s\n",
      "100:\tlearn: 0.1146642\ttotal: 1.77s\tremaining: 7.01s\n",
      "100:\tlearn: 0.2356140\ttotal: 1.94s\tremaining: 7.65s\n",
      "100:\tlearn: 0.1273814\ttotal: 1.91s\tremaining: 7.56s\n",
      "200:\tlearn: 0.1747548\ttotal: 2.1s\tremaining: 3.12s\n",
      "200:\tlearn: 0.1811668\ttotal: 2.09s\tremaining: 3.1s\n",
      "200:\tlearn: 0.1699962\ttotal: 3.07s\tremaining: 4.57s\n",
      "200:\tlearn: 0.0860724\ttotal: 3.1s\tremaining: 4.61s\n",
      "200:\tlearn: 0.1678333\ttotal: 3.17s\tremaining: 4.72s\n",
      "200:\tlearn: 0.0936501\ttotal: 3.11s\tremaining: 4.63s\n",
      "200:\tlearn: 0.0833418\ttotal: 3.09s\tremaining: 4.59s\n",
      "300:\tlearn: 0.1547245\ttotal: 3.19s\tremaining: 2.11s\n",
      "200:\tlearn: 0.1688050\ttotal: 3.3s\tremaining: 4.9s\n",
      "300:\tlearn: 0.1481932\ttotal: 3.52s\tremaining: 2.33s\n",
      "300:\tlearn: 0.0665328\ttotal: 4.2s\tremaining: 2.77s\n",
      "300:\tlearn: 0.1435221\ttotal: 4.26s\tremaining: 2.82s\n",
      "300:\tlearn: 0.1420008\ttotal: 4.43s\tremaining: 2.93s\n",
      "300:\tlearn: 0.0726022\ttotal: 4.44s\tremaining: 2.94s\n",
      "300:\tlearn: 0.0644530\ttotal: 4.42s\tremaining: 2.92s\n",
      "300:\tlearn: 0.1431654\ttotal: 4.57s\tremaining: 3.02s\n",
      "400:\tlearn: 0.1396416\ttotal: 4.57s\tremaining: 1.13s\n",
      "400:\tlearn: 0.1330704\ttotal: 4.62s\tremaining: 1.14s\n",
      "400:\tlearn: 0.0529606\ttotal: 5.35s\tremaining: 1.32s\n",
      "400:\tlearn: 0.1278873\ttotal: 5.46s\tremaining: 1.35s\n",
      "400:\tlearn: 0.1267771\ttotal: 5.68s\tremaining: 1.4s\n",
      "400:\tlearn: 0.0523017\ttotal: 5.58s\tremaining: 1.38s\n",
      "400:\tlearn: 0.0600612\ttotal: 5.7s\tremaining: 1.41s\n",
      "499:\tlearn: 0.1282650\ttotal: 5.82s\tremaining: 0us\n"
     ]
    },
    {
     "name": "stderr",
     "output_type": "stream",
     "text": [
      "/Users/a/.pyenv/versions/3.10.0/lib/python3.10/site-packages/sklearn/metrics/_classification.py:2916: UserWarning: The y_pred values do not sum to one. Starting from 1.5 thiswill result in an error.\n",
      "  warnings.warn(\n",
      "/Users/a/.pyenv/versions/3.10.0/lib/python3.10/site-packages/sklearn/metrics/_classification.py:2916: UserWarning: The y_pred values do not sum to one. Starting from 1.5 thiswill result in an error.\n",
      "  warnings.warn(\n"
     ]
    },
    {
     "name": "stdout",
     "output_type": "stream",
     "text": [
      "[CV] END depth=4, iterations=500, l2_leaf_reg=1, learning_rate=0.01; total time=   5.9s\n",
      "400:\tlearn: 0.1284840\ttotal: 5.99s\tremaining: 1.48s\n",
      "499:\tlearn: 0.1220195\ttotal: 5.99s\tremaining: 0us\n",
      "[CV] END depth=4, iterations=500, l2_leaf_reg=1, learning_rate=0.01; total time=   6.1s\n",
      "0:\tlearn: 0.6287695\ttotal: 40.3ms\tremaining: 20.1s\n",
      "0:\tlearn: 0.6261617\ttotal: 37.5ms\tremaining: 18.7s\n",
      "499:\tlearn: 0.0432435\ttotal: 6.54s\tremaining: 0us\n",
      "499:\tlearn: 0.0435862\ttotal: 6.63s\tremaining: 0us\n",
      "[CV] END depth=4, iterations=500, l2_leaf_reg=1, learning_rate=0.05; total time=   6.6s\n",
      "[CV] END depth=4, iterations=500, l2_leaf_reg=1, learning_rate=0.05; total time=   6.7s\n",
      "499:\tlearn: 0.0497320\ttotal: 6.69s\tremaining: 0us\n",
      "0:\tlearn: 0.5895958\ttotal: 11.3ms\tremaining: 5.66s\n",
      "499:\tlearn: 0.1179091\ttotal: 6.79s\tremaining: 0us\n",
      "[CV] END depth=4, iterations=500, l2_leaf_reg=1, learning_rate=0.05; total time=   6.8s\n",
      "0:\tlearn: 0.5665134\ttotal: 20.3ms\tremaining: 10.1s\n",
      "[CV] END depth=4, iterations=500, l2_leaf_reg=1, learning_rate=0.01; total time=   6.9s\n"
     ]
    },
    {
     "name": "stderr",
     "output_type": "stream",
     "text": [
      "/Users/a/.pyenv/versions/3.10.0/lib/python3.10/site-packages/sklearn/metrics/_classification.py:2916: UserWarning: The y_pred values do not sum to one. Starting from 1.5 thiswill result in an error.\n",
      "  warnings.warn(\n",
      "/Users/a/.pyenv/versions/3.10.0/lib/python3.10/site-packages/sklearn/metrics/_classification.py:2916: UserWarning: The y_pred values do not sum to one. Starting from 1.5 thiswill result in an error.\n",
      "  warnings.warn(\n",
      "/Users/a/.pyenv/versions/3.10.0/lib/python3.10/site-packages/sklearn/metrics/_classification.py:2916: UserWarning: The y_pred values do not sum to one. Starting from 1.5 thiswill result in an error.\n",
      "  warnings.warn(\n",
      "/Users/a/.pyenv/versions/3.10.0/lib/python3.10/site-packages/sklearn/metrics/_classification.py:2916: UserWarning: The y_pred values do not sum to one. Starting from 1.5 thiswill result in an error.\n",
      "  warnings.warn(\n"
     ]
    },
    {
     "name": "stdout",
     "output_type": "stream",
     "text": [
      "0:\tlearn: 0.5764683\ttotal: 9.85ms\tremaining: 4.91s\n",
      "0:\tlearn: 0.5719462\ttotal: 14.3ms\tremaining: 7.11s\n",
      "499:\tlearn: 0.1162852\ttotal: 7.23s\tremaining: 0us\n",
      "499:\tlearn: 0.1181799\ttotal: 7.26s\tremaining: 0us\n",
      "[CV] END depth=4, iterations=500, l2_leaf_reg=1, learning_rate=0.01; total time=   7.4s\n",
      "[CV] END depth=4, iterations=500, l2_leaf_reg=1, learning_rate=0.01; total time=   7.3s\n",
      "0:\tlearn: 0.5669241\ttotal: 8.11ms\tremaining: 4.05s\n",
      "0:\tlearn: 0.6818879\ttotal: 8.39ms\tremaining: 4.19s\n"
     ]
    },
    {
     "name": "stderr",
     "output_type": "stream",
     "text": [
      "/Users/a/.pyenv/versions/3.10.0/lib/python3.10/site-packages/sklearn/metrics/_classification.py:2916: UserWarning: The y_pred values do not sum to one. Starting from 1.5 thiswill result in an error.\n",
      "  warnings.warn(\n",
      "/Users/a/.pyenv/versions/3.10.0/lib/python3.10/site-packages/sklearn/metrics/_classification.py:2916: UserWarning: The y_pred values do not sum to one. Starting from 1.5 thiswill result in an error.\n",
      "  warnings.warn(\n"
     ]
    },
    {
     "name": "stdout",
     "output_type": "stream",
     "text": [
      "100:\tlearn: 0.1216771\ttotal: 1.64s\tremaining: 6.47s\n",
      "100:\tlearn: 0.1165642\ttotal: 1.59s\tremaining: 6.3s\n",
      "100:\tlearn: 0.0816545\ttotal: 1.54s\tremaining: 6.09s\n",
      "100:\tlearn: 0.0856385\ttotal: 1.6s\tremaining: 6.32s\n",
      "100:\tlearn: 0.0910073\ttotal: 1.51s\tremaining: 5.99s\n",
      "100:\tlearn: 0.0912431\ttotal: 1.65s\tremaining: 6.5s\n",
      "100:\tlearn: 0.0830369\ttotal: 1.6s\tremaining: 6.32s\n",
      "100:\tlearn: 0.2412730\ttotal: 1.68s\tremaining: 6.63s\n",
      "200:\tlearn: 0.0839876\ttotal: 3.14s\tremaining: 4.67s\n",
      "200:\tlearn: 0.0892936\ttotal: 3.28s\tremaining: 4.88s\n",
      "200:\tlearn: 0.0533412\ttotal: 2.94s\tremaining: 4.38s\n",
      "200:\tlearn: 0.0519274\ttotal: 2.94s\tremaining: 4.37s\n",
      "200:\tlearn: 0.0563452\ttotal: 2.96s\tremaining: 4.41s\n",
      "200:\tlearn: 0.0596054\ttotal: 3.07s\tremaining: 4.57s\n",
      "200:\tlearn: 0.1739888\ttotal: 3.07s\tremaining: 4.56s\n",
      "200:\tlearn: 0.0509896\ttotal: 3.1s\tremaining: 4.62s\n",
      "300:\tlearn: 0.0695866\ttotal: 4.63s\tremaining: 3.06s\n",
      "300:\tlearn: 0.0643987\ttotal: 4.5s\tremaining: 2.98s\n",
      "300:\tlearn: 0.0356633\ttotal: 4.25s\tremaining: 2.81s\n",
      "300:\tlearn: 0.0355325\ttotal: 4.3s\tremaining: 2.84s\n",
      "300:\tlearn: 0.0391163\ttotal: 4.22s\tremaining: 2.79s\n",
      "300:\tlearn: 0.0405103\ttotal: 4.31s\tremaining: 2.85s\n",
      "300:\tlearn: 0.1486664\ttotal: 4.26s\tremaining: 2.82s\n",
      "300:\tlearn: 0.0342027\ttotal: 4.3s\tremaining: 2.85s\n",
      "400:\tlearn: 0.0556806\ttotal: 5.93s\tremaining: 1.46s\n",
      "400:\tlearn: 0.0513234\ttotal: 6s\tremaining: 1.48s\n",
      "400:\tlearn: 0.0256088\ttotal: 5.57s\tremaining: 1.38s\n",
      "400:\tlearn: 0.0281185\ttotal: 5.53s\tremaining: 1.36s\n",
      "400:\tlearn: 0.0294603\ttotal: 5.66s\tremaining: 1.4s\n",
      "400:\tlearn: 0.0251198\ttotal: 5.79s\tremaining: 1.43s\n",
      "400:\tlearn: 0.1336271\ttotal: 5.59s\tremaining: 1.38s\n",
      "400:\tlearn: 0.0244607\ttotal: 5.7s\tremaining: 1.41s\n",
      "499:\tlearn: 0.0461365\ttotal: 7.23s\tremaining: 0us\n",
      "[CV] END depth=4, iterations=500, l2_leaf_reg=1, learning_rate=0.05; total time=   7.3s\n",
      "0:\tlearn: 0.6795025\ttotal: 10.8ms\tremaining: 5.37s\n"
     ]
    },
    {
     "name": "stderr",
     "output_type": "stream",
     "text": [
      "/Users/a/.pyenv/versions/3.10.0/lib/python3.10/site-packages/sklearn/metrics/_classification.py:2916: UserWarning: The y_pred values do not sum to one. Starting from 1.5 thiswill result in an error.\n",
      "  warnings.warn(\n"
     ]
    },
    {
     "name": "stdout",
     "output_type": "stream",
     "text": [
      "499:\tlearn: 0.0418023\ttotal: 7.31s\tremaining: 0us\n",
      "[CV] END depth=4, iterations=500, l2_leaf_reg=1, learning_rate=0.05; total time=   7.5s\n",
      "0:\tlearn: 0.6806483\ttotal: 8.42ms\tremaining: 4.2s\n",
      "499:\tlearn: 0.0192985\ttotal: 6.77s\tremaining: 0us\n",
      "[CV] END depth=4, iterations=500, l2_leaf_reg=1, learning_rate=0.1; total time=   6.8s\n",
      "0:\tlearn: 0.6803141\ttotal: 10.1ms\tremaining: 5.02s\n"
     ]
    },
    {
     "name": "stderr",
     "output_type": "stream",
     "text": [
      "/Users/a/.pyenv/versions/3.10.0/lib/python3.10/site-packages/sklearn/metrics/_classification.py:2916: UserWarning: The y_pred values do not sum to one. Starting from 1.5 thiswill result in an error.\n",
      "  warnings.warn(\n",
      "/Users/a/.pyenv/versions/3.10.0/lib/python3.10/site-packages/sklearn/metrics/_classification.py:2916: UserWarning: The y_pred values do not sum to one. Starting from 1.5 thiswill result in an error.\n",
      "  warnings.warn(\n"
     ]
    },
    {
     "name": "stdout",
     "output_type": "stream",
     "text": [
      "499:\tlearn: 0.0215476\ttotal: 6.76s\tremaining: 0us\n",
      "[CV] END depth=4, iterations=500, l2_leaf_reg=1, learning_rate=0.1; total time=   6.9s\n",
      "499:\tlearn: 0.0189576\ttotal: 6.97s\tremaining: 0us\n",
      "0:\tlearn: 0.6795682\ttotal: 13.8ms\tremaining: 6.87s\n",
      "[CV] END depth=4, iterations=500, l2_leaf_reg=1, learning_rate=0.1; total time=   7.1s\n",
      "0:\tlearn: 0.6393831\ttotal: 8.69ms\tremaining: 4.34s\n",
      "499:\tlearn: 0.0224677\ttotal: 6.96s\tremaining: 0us\n",
      "[CV] END depth=4, iterations=500, l2_leaf_reg=1, learning_rate=0.1; total time=   7.0s\n"
     ]
    },
    {
     "name": "stderr",
     "output_type": "stream",
     "text": [
      "/Users/a/.pyenv/versions/3.10.0/lib/python3.10/site-packages/sklearn/metrics/_classification.py:2916: UserWarning: The y_pred values do not sum to one. Starting from 1.5 thiswill result in an error.\n",
      "  warnings.warn(\n",
      "/Users/a/.pyenv/versions/3.10.0/lib/python3.10/site-packages/sklearn/metrics/_classification.py:2916: UserWarning: The y_pred values do not sum to one. Starting from 1.5 thiswill result in an error.\n",
      "  warnings.warn(\n",
      "/Users/a/.pyenv/versions/3.10.0/lib/python3.10/site-packages/sklearn/metrics/_classification.py:2916: UserWarning: The y_pred values do not sum to one. Starting from 1.5 thiswill result in an error.\n",
      "  warnings.warn(\n"
     ]
    },
    {
     "name": "stdout",
     "output_type": "stream",
     "text": [
      "0:\tlearn: 0.6278063\ttotal: 8.85ms\tremaining: 4.41s\n",
      "499:\tlearn: 0.1243492\ttotal: 6.79s\tremaining: 0us\n",
      "[CV] END depth=4, iterations=500, l2_leaf_reg=3, learning_rate=0.01; total time=   6.9s\n",
      "0:\tlearn: 0.6333224\ttotal: 23.1ms\tremaining: 11.5s\n"
     ]
    },
    {
     "name": "stderr",
     "output_type": "stream",
     "text": [
      "/Users/a/.pyenv/versions/3.10.0/lib/python3.10/site-packages/sklearn/metrics/_classification.py:2916: UserWarning: The y_pred values do not sum to one. Starting from 1.5 thiswill result in an error.\n",
      "  warnings.warn(\n"
     ]
    },
    {
     "name": "stdout",
     "output_type": "stream",
     "text": [
      "499:\tlearn: 0.0179725\ttotal: 7.06s\tremaining: 0us\n",
      "[CV] END depth=4, iterations=500, l2_leaf_reg=1, learning_rate=0.1; total time=   7.1s\n",
      "0:\tlearn: 0.6316882\ttotal: 15.9ms\tremaining: 7.93s\n",
      "100:\tlearn: 0.2400423\ttotal: 1.33s\tremaining: 5.27s\n"
     ]
    },
    {
     "name": "stderr",
     "output_type": "stream",
     "text": [
      "/Users/a/.pyenv/versions/3.10.0/lib/python3.10/site-packages/sklearn/metrics/_classification.py:2916: UserWarning: The y_pred values do not sum to one. Starting from 1.5 thiswill result in an error.\n",
      "  warnings.warn(\n"
     ]
    },
    {
     "name": "stdout",
     "output_type": "stream",
     "text": [
      "100:\tlearn: 0.2518707\ttotal: 1.3s\tremaining: 5.12s\n",
      "100:\tlearn: 0.2457852\ttotal: 1.4s\tremaining: 5.53s\n",
      "100:\tlearn: 0.1236304\ttotal: 1.24s\tremaining: 4.91s\n",
      "100:\tlearn: 0.1200361\ttotal: 1.3s\tremaining: 5.14s\n",
      "100:\tlearn: 0.2388479\ttotal: 1.5s\tremaining: 5.91s\n",
      "100:\tlearn: 0.1334851\ttotal: 1.28s\tremaining: 5.05s\n",
      "100:\tlearn: 0.1283952\ttotal: 1.2s\tremaining: 4.72s\n",
      "200:\tlearn: 0.1730835\ttotal: 2.57s\tremaining: 3.82s\n",
      "200:\tlearn: 0.1854225\ttotal: 2.5s\tremaining: 3.72s\n",
      "200:\tlearn: 0.1800652\ttotal: 2.59s\tremaining: 3.86s\n",
      "200:\tlearn: 0.0963963\ttotal: 2.41s\tremaining: 3.59s\n",
      "200:\tlearn: 0.1731870\ttotal: 2.56s\tremaining: 3.8s\n",
      "200:\tlearn: 0.0934173\ttotal: 2.44s\tremaining: 3.62s\n",
      "200:\tlearn: 0.1047998\ttotal: 2.43s\tremaining: 3.62s\n",
      "200:\tlearn: 0.0982732\ttotal: 2.36s\tremaining: 3.51s\n",
      "300:\tlearn: 0.1483415\ttotal: 3.72s\tremaining: 2.46s\n",
      "300:\tlearn: 0.1596736\ttotal: 3.66s\tremaining: 2.42s\n",
      "300:\tlearn: 0.1540299\ttotal: 3.68s\tremaining: 2.43s\n",
      "300:\tlearn: 0.0803188\ttotal: 3.55s\tremaining: 2.34s\n",
      "300:\tlearn: 0.1481692\ttotal: 3.68s\tremaining: 2.44s\n",
      "300:\tlearn: 0.0774073\ttotal: 3.65s\tremaining: 2.41s\n",
      "300:\tlearn: 0.0873400\ttotal: 3.57s\tremaining: 2.36s\n",
      "300:\tlearn: 0.0833716\ttotal: 3.47s\tremaining: 2.29s\n",
      "400:\tlearn: 0.1342452\ttotal: 4.79s\tremaining: 1.18s\n",
      "400:\tlearn: 0.1455287\ttotal: 4.84s\tremaining: 1.2s\n",
      "400:\tlearn: 0.1389869\ttotal: 4.84s\tremaining: 1.2s\n",
      "400:\tlearn: 0.0692127\ttotal: 4.65s\tremaining: 1.15s\n",
      "400:\tlearn: 0.1333368\ttotal: 4.84s\tremaining: 1.2s\n",
      "400:\tlearn: 0.0670836\ttotal: 4.84s\tremaining: 1.19s\n",
      "400:\tlearn: 0.0754167\ttotal: 4.74s\tremaining: 1.17s\n",
      "400:\tlearn: 0.0718306\ttotal: 4.58s\tremaining: 1.13s\n",
      "499:\tlearn: 0.1243216\ttotal: 5.88s\tremaining: 0us\n",
      "[CV] END depth=4, iterations=500, l2_leaf_reg=3, learning_rate=0.01; total time=   6.0s\n",
      "0:\tlearn: 0.6281493\ttotal: 10.7ms\tremaining: 5.34s\n"
     ]
    },
    {
     "name": "stderr",
     "output_type": "stream",
     "text": [
      "/Users/a/.pyenv/versions/3.10.0/lib/python3.10/site-packages/sklearn/metrics/_classification.py:2916: UserWarning: The y_pred values do not sum to one. Starting from 1.5 thiswill result in an error.\n",
      "  warnings.warn(\n"
     ]
    },
    {
     "name": "stdout",
     "output_type": "stream",
     "text": [
      "499:\tlearn: 0.1288707\ttotal: 5.93s\tremaining: 0us\n",
      "[CV] END depth=4, iterations=500, l2_leaf_reg=3, learning_rate=0.01; total time=   6.0s\n",
      "0:\tlearn: 0.5918510\ttotal: 11.4ms\tremaining: 5.7s\n",
      "499:\tlearn: 0.1230825\ttotal: 5.95s\tremaining: 0us\n",
      "[CV] END depth=4, iterations=500, l2_leaf_reg=3, learning_rate=0.01; total time=   6.0s\n"
     ]
    },
    {
     "name": "stderr",
     "output_type": "stream",
     "text": [
      "/Users/a/.pyenv/versions/3.10.0/lib/python3.10/site-packages/sklearn/metrics/_classification.py:2916: UserWarning: The y_pred values do not sum to one. Starting from 1.5 thiswill result in an error.\n",
      "  warnings.warn(\n",
      "/Users/a/.pyenv/versions/3.10.0/lib/python3.10/site-packages/sklearn/metrics/_classification.py:2916: UserWarning: The y_pred values do not sum to one. Starting from 1.5 thiswill result in an error.\n",
      "  warnings.warn(\n"
     ]
    },
    {
     "name": "stdout",
     "output_type": "stream",
     "text": [
      "0:\tlearn: 0.5695819\ttotal: 25.9ms\tremaining: 12.9s\n",
      "499:\tlearn: 0.0587406\ttotal: 6s\tremaining: 0us\n",
      "[CV] END depth=4, iterations=500, l2_leaf_reg=3, learning_rate=0.05; total time=   6.1s\n",
      "0:\tlearn: 0.5800810\ttotal: 12.5ms\tremaining: 6.22s\n"
     ]
    },
    {
     "name": "stderr",
     "output_type": "stream",
     "text": [
      "/Users/a/.pyenv/versions/3.10.0/lib/python3.10/site-packages/sklearn/metrics/_classification.py:2916: UserWarning: The y_pred values do not sum to one. Starting from 1.5 thiswill result in an error.\n",
      "  warnings.warn(\n"
     ]
    },
    {
     "name": "stdout",
     "output_type": "stream",
     "text": [
      "499:\tlearn: 0.1348975\ttotal: 6.59s\tremaining: 0us\n",
      "[CV] END depth=4, iterations=500, l2_leaf_reg=3, learning_rate=0.01; total time=   6.7s\n",
      "0:\tlearn: 0.5769106\ttotal: 3.66ms\tremaining: 1.82s\n",
      "499:\tlearn: 0.0613090\ttotal: 6.38s\tremaining: 0us\n",
      "[CV] END depth=4, iterations=500, l2_leaf_reg=3, learning_rate=0.05; total time=   6.5s\n",
      "0:\tlearn: 0.5702986\ttotal: 8.71ms\tremaining: 4.35s\n",
      "499:\tlearn: 0.0664890\ttotal: 6.04s\tremaining: 0us\n",
      "[CV] END depth=4, iterations=500, l2_leaf_reg=3, learning_rate=0.05; total time=   6.1s\n",
      "0:\tlearn: 0.6815936\ttotal: 8.46ms\tremaining: 6.33s\n"
     ]
    },
    {
     "name": "stderr",
     "output_type": "stream",
     "text": [
      "/Users/a/.pyenv/versions/3.10.0/lib/python3.10/site-packages/sklearn/metrics/_classification.py:2916: UserWarning: The y_pred values do not sum to one. Starting from 1.5 thiswill result in an error.\n",
      "  warnings.warn(\n",
      "/Users/a/.pyenv/versions/3.10.0/lib/python3.10/site-packages/sklearn/metrics/_classification.py:2916: UserWarning: The y_pred values do not sum to one. Starting from 1.5 thiswill result in an error.\n",
      "  warnings.warn(\n",
      "/Users/a/.pyenv/versions/3.10.0/lib/python3.10/site-packages/sklearn/metrics/_classification.py:2916: UserWarning: The y_pred values do not sum to one. Starting from 1.5 thiswill result in an error.\n",
      "  warnings.warn(\n"
     ]
    },
    {
     "name": "stdout",
     "output_type": "stream",
     "text": [
      "499:\tlearn: 0.0639269\ttotal: 5.95s\tremaining: 0us\n",
      "[CV] END depth=4, iterations=500, l2_leaf_reg=3, learning_rate=0.05; total time=   6.0s\n",
      "0:\tlearn: 0.6790915\ttotal: 20.1ms\tremaining: 15s\n"
     ]
    },
    {
     "name": "stderr",
     "output_type": "stream",
     "text": [
      "/Users/a/.pyenv/versions/3.10.0/lib/python3.10/site-packages/sklearn/metrics/_classification.py:2916: UserWarning: The y_pred values do not sum to one. Starting from 1.5 thiswill result in an error.\n",
      "  warnings.warn(\n"
     ]
    },
    {
     "name": "stdout",
     "output_type": "stream",
     "text": [
      "100:\tlearn: 0.1239483\ttotal: 1.54s\tremaining: 6.09s\n",
      "100:\tlearn: 0.0960324\ttotal: 1.56s\tremaining: 6.17s\n",
      "100:\tlearn: 0.0939064\ttotal: 1.45s\tremaining: 5.72s\n",
      "100:\tlearn: 0.1025902\ttotal: 1.43s\tremaining: 5.64s\n",
      "100:\tlearn: 0.0932846\ttotal: 1.32s\tremaining: 5.2s\n",
      "100:\tlearn: 0.1001384\ttotal: 1.5s\tremaining: 5.95s\n",
      "100:\tlearn: 0.2381465\ttotal: 1.37s\tremaining: 8.82s\n",
      "100:\tlearn: 0.2356140\ttotal: 1.45s\tremaining: 9.32s\n",
      "200:\tlearn: 0.0935938\ttotal: 2.78s\tremaining: 4.14s\n",
      "200:\tlearn: 0.0692698\ttotal: 2.74s\tremaining: 4.08s\n",
      "200:\tlearn: 0.0650705\ttotal: 2.73s\tremaining: 4.06s\n",
      "200:\tlearn: 0.0740212\ttotal: 2.7s\tremaining: 4.02s\n",
      "200:\tlearn: 0.0648431\ttotal: 2.65s\tremaining: 3.95s\n",
      "200:\tlearn: 0.0725102\ttotal: 2.73s\tremaining: 4.06s\n",
      "200:\tlearn: 0.1699962\ttotal: 2.6s\tremaining: 7.1s\n",
      "200:\tlearn: 0.1688050\ttotal: 2.75s\tremaining: 7.51s\n",
      "300:\tlearn: 0.0775949\ttotal: 3.99s\tremaining: 2.64s\n",
      "300:\tlearn: 0.0537757\ttotal: 4.08s\tremaining: 2.7s\n",
      "300:\tlearn: 0.0507444\ttotal: 4.13s\tremaining: 2.73s\n",
      "300:\tlearn: 0.0597015\ttotal: 4.07s\tremaining: 2.69s\n",
      "300:\tlearn: 0.0567233\ttotal: 4.12s\tremaining: 2.72s\n",
      "300:\tlearn: 0.0498800\ttotal: 4.09s\tremaining: 2.71s\n",
      "300:\tlearn: 0.1435221\ttotal: 4.03s\tremaining: 6.01s\n",
      "300:\tlearn: 0.1431654\ttotal: 4.15s\tremaining: 6.19s\n",
      "400:\tlearn: 0.0428030\ttotal: 5.12s\tremaining: 1.26s\n",
      "400:\tlearn: 0.0670037\ttotal: 5.47s\tremaining: 1.35s\n",
      "400:\tlearn: 0.0470311\ttotal: 4.92s\tremaining: 1.22s\n",
      "400:\tlearn: 0.0408107\ttotal: 5.95s\tremaining: 1.47s\n",
      "499:\tlearn: 0.0345662\ttotal: 6.24s\tremaining: 0us\n",
      "[CV] END depth=4, iterations=500, l2_leaf_reg=3, learning_rate=0.1; total time=   6.3s\n",
      "0:\tlearn: 0.6801719\ttotal: 9.01ms\tremaining: 6.75s\n"
     ]
    },
    {
     "name": "stderr",
     "output_type": "stream",
     "text": [
      "/Users/a/.pyenv/versions/3.10.0/lib/python3.10/site-packages/sklearn/metrics/_classification.py:2916: UserWarning: The y_pred values do not sum to one. Starting from 1.5 thiswill result in an error.\n",
      "  warnings.warn(\n"
     ]
    },
    {
     "name": "stdout",
     "output_type": "stream",
     "text": [
      "400:\tlearn: 0.0398450\ttotal: 5.86s\tremaining: 1.45s\n",
      "499:\tlearn: 0.0391215\ttotal: 6.19s\tremaining: 0us\n",
      "[CV] END depth=4, iterations=500, l2_leaf_reg=3, learning_rate=0.1; total time=   6.3s\n",
      "400:\tlearn: 0.0453021\ttotal: 5.99s\tremaining: 1.48s\n",
      "0:\tlearn: 0.6796579\ttotal: 7.97ms\tremaining: 5.97s\n",
      "400:\tlearn: 0.1278873\ttotal: 5.91s\tremaining: 5.14s\n"
     ]
    },
    {
     "name": "stderr",
     "output_type": "stream",
     "text": [
      "/Users/a/.pyenv/versions/3.10.0/lib/python3.10/site-packages/sklearn/metrics/_classification.py:2916: UserWarning: The y_pred values do not sum to one. Starting from 1.5 thiswill result in an error.\n",
      "  warnings.warn(\n",
      "/Users/a/.pyenv/versions/3.10.0/lib/python3.10/site-packages/sklearn/metrics/_classification.py:2916: UserWarning: The y_pred values do not sum to one. Starting from 1.5 thiswill result in an error.\n",
      "  warnings.warn(\n"
     ]
    },
    {
     "name": "stdout",
     "output_type": "stream",
     "text": [
      "499:\tlearn: 0.0587563\ttotal: 7.1s\tremaining: 0us\n",
      "[CV] END depth=4, iterations=500, l2_leaf_reg=3, learning_rate=0.05; total time=   7.2s\n",
      "0:\tlearn: 0.6791206\ttotal: 11.3ms\tremaining: 8.44s\n",
      "400:\tlearn: 0.1284840\ttotal: 5.91s\tremaining: 5.14s\n",
      "499:\tlearn: 0.0330042\ttotal: 7.26s\tremaining: 0us\n",
      "[CV] END depth=4, iterations=500, l2_leaf_reg=3, learning_rate=0.1; total time=   7.4s\n",
      "0:\tlearn: 0.6380676\ttotal: 18.6ms\tremaining: 13.9s\n"
     ]
    },
    {
     "name": "stderr",
     "output_type": "stream",
     "text": [
      "/Users/a/.pyenv/versions/3.10.0/lib/python3.10/site-packages/sklearn/metrics/_classification.py:2916: UserWarning: The y_pred values do not sum to one. Starting from 1.5 thiswill result in an error.\n",
      "  warnings.warn(\n"
     ]
    },
    {
     "name": "stdout",
     "output_type": "stream",
     "text": [
      "100:\tlearn: 0.2480628\ttotal: 1.36s\tremaining: 8.77s\n",
      "100:\tlearn: 0.2399948\ttotal: 1.38s\tremaining: 8.88s\n",
      "499:\tlearn: 0.0324411\ttotal: 7.4s\tremaining: 0us\n",
      "500:\tlearn: 0.1178250\ttotal: 7.34s\tremaining: 3.65s\n",
      "499:\tlearn: 0.0366709\ttotal: 7.47s\tremaining: 0us\n",
      "[CV] END depth=4, iterations=500, l2_leaf_reg=3, learning_rate=0.1; total time=   7.5s\n",
      "[CV] END depth=4, iterations=500, l2_leaf_reg=3, learning_rate=0.1; total time=   7.6s\n",
      "0:\tlearn: 0.6259879\ttotal: 14.6ms\tremaining: 10.9s\n",
      "0:\tlearn: 0.6312015\ttotal: 7.21ms\tremaining: 5.4s\n"
     ]
    },
    {
     "name": "stderr",
     "output_type": "stream",
     "text": [
      "/Users/a/.pyenv/versions/3.10.0/lib/python3.10/site-packages/sklearn/metrics/_classification.py:2916: UserWarning: The y_pred values do not sum to one. Starting from 1.5 thiswill result in an error.\n",
      "  warnings.warn(\n",
      "/Users/a/.pyenv/versions/3.10.0/lib/python3.10/site-packages/sklearn/metrics/_classification.py:2916: UserWarning: The y_pred values do not sum to one. Starting from 1.5 thiswill result in an error.\n",
      "  warnings.warn(\n"
     ]
    },
    {
     "name": "stdout",
     "output_type": "stream",
     "text": [
      "500:\tlearn: 0.1181117\ttotal: 7.38s\tremaining: 3.67s\n",
      "100:\tlearn: 0.2340057\ttotal: 1.52s\tremaining: 9.74s\n",
      "100:\tlearn: 0.1175390\ttotal: 1.54s\tremaining: 9.91s\n",
      "200:\tlearn: 0.1811668\ttotal: 2.81s\tremaining: 7.68s\n",
      "100:\tlearn: 0.1273814\ttotal: 978ms\tremaining: 6.29s\n",
      "200:\tlearn: 0.1678333\ttotal: 2.48s\tremaining: 6.78s\n",
      "200:\tlearn: 0.1747548\ttotal: 2.85s\tremaining: 7.8s\n",
      "600:\tlearn: 0.1095277\ttotal: 8.75s\tremaining: 2.17s\n",
      "100:\tlearn: 0.1146642\ttotal: 1.41s\tremaining: 9.09s\n",
      "200:\tlearn: 0.0936501\ttotal: 1.68s\tremaining: 4.6s\n",
      "300:\tlearn: 0.1420008\ttotal: 3.17s\tremaining: 4.73s\n",
      "600:\tlearn: 0.1095788\ttotal: 9.09s\tremaining: 2.25s\n",
      "300:\tlearn: 0.0726022\ttotal: 2.47s\tremaining: 3.69s\n",
      "200:\tlearn: 0.0860724\ttotal: 3.21s\tremaining: 8.78s\n",
      "300:\tlearn: 0.1547245\ttotal: 4.44s\tremaining: 6.62s\n",
      "400:\tlearn: 0.1267771\ttotal: 4.17s\tremaining: 3.63s\n",
      "700:\tlearn: 0.1029207\ttotal: 10.4s\tremaining: 729ms\n",
      "200:\tlearn: 0.0833418\ttotal: 3.08s\tremaining: 8.41s\n",
      "300:\tlearn: 0.1481932\ttotal: 4.61s\tremaining: 6.88s\n",
      "700:\tlearn: 0.1021732\ttotal: 10.7s\tremaining: 749ms\n",
      "749:\tlearn: 0.0999751\ttotal: 11.1s\tremaining: 0us\n",
      "[CV] END depth=4, iterations=750, l2_leaf_reg=1, learning_rate=0.01; total time=  11.3s\n",
      "0:\tlearn: 0.6287695\ttotal: 37.4ms\tremaining: 28s\n",
      "400:\tlearn: 0.0600612\ttotal: 3.9s\tremaining: 3.4s\n",
      "400:\tlearn: 0.1396416\ttotal: 5.76s\tremaining: 5.01s\n"
     ]
    },
    {
     "name": "stderr",
     "output_type": "stream",
     "text": [
      "/Users/a/.pyenv/versions/3.10.0/lib/python3.10/site-packages/sklearn/metrics/_classification.py:2916: UserWarning: The y_pred values do not sum to one. Starting from 1.5 thiswill result in an error.\n",
      "  warnings.warn(\n"
     ]
    },
    {
     "name": "stdout",
     "output_type": "stream",
     "text": [
      "300:\tlearn: 0.0665328\ttotal: 4.59s\tremaining: 6.85s\n",
      "749:\tlearn: 0.0993597\ttotal: 11.3s\tremaining: 0us\n",
      "[CV] END depth=4, iterations=750, l2_leaf_reg=1, learning_rate=0.01; total time=  11.4s\n",
      "0:\tlearn: 0.6261617\ttotal: 9.13ms\tremaining: 6.84s\n"
     ]
    },
    {
     "name": "stderr",
     "output_type": "stream",
     "text": [
      "/Users/a/.pyenv/versions/3.10.0/lib/python3.10/site-packages/sklearn/metrics/_classification.py:2916: UserWarning: The y_pred values do not sum to one. Starting from 1.5 thiswill result in an error.\n",
      "  warnings.warn(\n"
     ]
    },
    {
     "name": "stdout",
     "output_type": "stream",
     "text": [
      "500:\tlearn: 0.1161762\ttotal: 5.72s\tremaining: 2.84s\n",
      "400:\tlearn: 0.1330704\ttotal: 6.07s\tremaining: 5.28s\n",
      "300:\tlearn: 0.0644530\ttotal: 4.73s\tremaining: 7.06s\n",
      "100:\tlearn: 0.1216771\ttotal: 1.39s\tremaining: 8.9s\n",
      "500:\tlearn: 0.1281578\ttotal: 7.09s\tremaining: 3.52s\n",
      "400:\tlearn: 0.0529606\ttotal: 5.98s\tremaining: 5.21s\n",
      "500:\tlearn: 0.0496721\ttotal: 5.39s\tremaining: 2.68s\n",
      "100:\tlearn: 0.1165642\ttotal: 1.56s\tremaining: 10s\n",
      "500:\tlearn: 0.1219623\ttotal: 7.46s\tremaining: 3.71s\n",
      "600:\tlearn: 0.1078951\ttotal: 7.38s\tremaining: 1.83s\n",
      "400:\tlearn: 0.0523017\ttotal: 6.14s\tremaining: 5.34s\n",
      "200:\tlearn: 0.0892936\ttotal: 2.78s\tremaining: 7.61s\n",
      "600:\tlearn: 0.1193927\ttotal: 8.43s\tremaining: 2.09s\n",
      "600:\tlearn: 0.0418294\ttotal: 6.68s\tremaining: 1.66s\n",
      "500:\tlearn: 0.0434773\ttotal: 7.38s\tremaining: 3.67s\n",
      "200:\tlearn: 0.0839876\ttotal: 2.87s\tremaining: 7.84s\n",
      "600:\tlearn: 0.1131791\ttotal: 8.76s\tremaining: 2.17s\n",
      "700:\tlearn: 0.1009453\ttotal: 8.7s\tremaining: 608ms\n",
      "500:\tlearn: 0.0431182\ttotal: 7.41s\tremaining: 3.68s\n",
      "700:\tlearn: 0.1119112\ttotal: 9.59s\tremaining: 670ms\n",
      "600:\tlearn: 0.0359439\ttotal: 8.6s\tremaining: 2.13s\n",
      "749:\tlearn: 0.0978182\ttotal: 9.28s\tremaining: 0us\n",
      "300:\tlearn: 0.0695866\ttotal: 4.17s\tremaining: 6.21s\n",
      "700:\tlearn: 0.0352452\ttotal: 7.96s\tremaining: 556ms\n",
      "[CV] END depth=4, iterations=750, l2_leaf_reg=1, learning_rate=0.01; total time=   9.4s\n",
      "0:\tlearn: 0.5895958\ttotal: 7.53ms\tremaining: 5.64s\n"
     ]
    },
    {
     "name": "stderr",
     "output_type": "stream",
     "text": [
      "/Users/a/.pyenv/versions/3.10.0/lib/python3.10/site-packages/sklearn/metrics/_classification.py:2916: UserWarning: The y_pred values do not sum to one. Starting from 1.5 thiswill result in an error.\n",
      "  warnings.warn(\n"
     ]
    },
    {
     "name": "stdout",
     "output_type": "stream",
     "text": [
      "300:\tlearn: 0.0643987\ttotal: 4.03s\tremaining: 6s\n",
      "749:\tlearn: 0.0328432\ttotal: 8.4s\tremaining: 0us\n",
      "[CV] END depth=4, iterations=750, l2_leaf_reg=1, learning_rate=0.05; total time=   8.6s\n",
      "0:\tlearn: 0.5665134\ttotal: 14ms\tremaining: 10.5s\n"
     ]
    },
    {
     "name": "stderr",
     "output_type": "stream",
     "text": [
      "/Users/a/.pyenv/versions/3.10.0/lib/python3.10/site-packages/sklearn/metrics/_classification.py:2916: UserWarning: The y_pred values do not sum to one. Starting from 1.5 thiswill result in an error.\n",
      "  warnings.warn(\n"
     ]
    },
    {
     "name": "stdout",
     "output_type": "stream",
     "text": [
      "749:\tlearn: 0.1085613\ttotal: 10.7s\tremaining: 0us\n",
      "[CV] END depth=4, iterations=750, l2_leaf_reg=1, learning_rate=0.01; total time=  10.8s\n",
      "700:\tlearn: 0.1059853\ttotal: 10.4s\tremaining: 726ms\n",
      "0:\tlearn: 0.5764683\ttotal: 8.6ms\tremaining: 6.44s\n"
     ]
    },
    {
     "name": "stderr",
     "output_type": "stream",
     "text": [
      "/Users/a/.pyenv/versions/3.10.0/lib/python3.10/site-packages/sklearn/metrics/_classification.py:2916: UserWarning: The y_pred values do not sum to one. Starting from 1.5 thiswill result in an error.\n",
      "  warnings.warn(\n"
     ]
    },
    {
     "name": "stdout",
     "output_type": "stream",
     "text": [
      "600:\tlearn: 0.0361246\ttotal: 9.18s\tremaining: 2.27s\n",
      "100:\tlearn: 0.0856385\ttotal: 1.32s\tremaining: 8.46s\n",
      "400:\tlearn: 0.0513234\ttotal: 5.24s\tremaining: 4.56s\n",
      "749:\tlearn: 0.1030880\ttotal: 10.9s\tremaining: 0us\n",
      "[CV] END depth=4, iterations=750, l2_leaf_reg=1, learning_rate=0.01; total time=  11.0s\n",
      "0:\tlearn: 0.5719462\ttotal: 12.4ms\tremaining: 9.29s\n",
      "700:\tlearn: 0.0300899\ttotal: 10.2s\tremaining: 710ms\n",
      "400:\tlearn: 0.0556806\ttotal: 5.77s\tremaining: 5.02s\n"
     ]
    },
    {
     "name": "stderr",
     "output_type": "stream",
     "text": [
      "/Users/a/.pyenv/versions/3.10.0/lib/python3.10/site-packages/sklearn/metrics/_classification.py:2916: UserWarning: The y_pred values do not sum to one. Starting from 1.5 thiswill result in an error.\n",
      "  warnings.warn(\n"
     ]
    },
    {
     "name": "stdout",
     "output_type": "stream",
     "text": [
      "100:\tlearn: 0.0816545\ttotal: 1.36s\tremaining: 8.76s\n",
      "100:\tlearn: 0.0912431\ttotal: 1.26s\tremaining: 8.09s\n",
      "749:\tlearn: 0.0275907\ttotal: 10.8s\tremaining: 0us\n",
      "[CV] END depth=4, iterations=750, l2_leaf_reg=1, learning_rate=0.05; total time=  11.0s\n",
      "0:\tlearn: 0.5669241\ttotal: 16.1ms\tremaining: 12s\n"
     ]
    },
    {
     "name": "stderr",
     "output_type": "stream",
     "text": [
      "/Users/a/.pyenv/versions/3.10.0/lib/python3.10/site-packages/sklearn/metrics/_classification.py:2916: UserWarning: The y_pred values do not sum to one. Starting from 1.5 thiswill result in an error.\n",
      "  warnings.warn(\n"
     ]
    },
    {
     "name": "stdout",
     "output_type": "stream",
     "text": [
      "700:\tlearn: 0.0303196\ttotal: 10.4s\tremaining: 730ms\n",
      "200:\tlearn: 0.0533412\ttotal: 2.46s\tremaining: 6.73s\n",
      "500:\tlearn: 0.0417628\ttotal: 6.58s\tremaining: 3.27s\n",
      "500:\tlearn: 0.0460916\ttotal: 6.94s\tremaining: 3.45s\n",
      "100:\tlearn: 0.0910073\ttotal: 1.41s\tremaining: 9.06s\n",
      "749:\tlearn: 0.0281817\ttotal: 11s\tremaining: 0us\n",
      "[CV] END depth=4, iterations=750, l2_leaf_reg=1, learning_rate=0.05; total time=  11.2s\n",
      "0:\tlearn: 0.6818879\ttotal: 14.5ms\tremaining: 10.9s\n",
      "200:\tlearn: 0.0519274\ttotal: 2.66s\tremaining: 7.27s\n"
     ]
    },
    {
     "name": "stderr",
     "output_type": "stream",
     "text": [
      "/Users/a/.pyenv/versions/3.10.0/lib/python3.10/site-packages/sklearn/metrics/_classification.py:2916: UserWarning: The y_pred values do not sum to one. Starting from 1.5 thiswill result in an error.\n",
      "  warnings.warn(\n"
     ]
    },
    {
     "name": "stdout",
     "output_type": "stream",
     "text": [
      "200:\tlearn: 0.0596054\ttotal: 2.47s\tremaining: 6.75s\n",
      "100:\tlearn: 0.0830369\ttotal: 1.27s\tremaining: 8.17s\n",
      "300:\tlearn: 0.0355325\ttotal: 3.93s\tremaining: 5.86s\n",
      "600:\tlearn: 0.0345864\ttotal: 7.88s\tremaining: 1.95s\n",
      "600:\tlearn: 0.0385769\ttotal: 8.21s\tremaining: 2.04s\n",
      "200:\tlearn: 0.0563452\ttotal: 2.61s\tremaining: 7.12s\n",
      "100:\tlearn: 0.2412730\ttotal: 1.14s\tremaining: 7.34s\n",
      "300:\tlearn: 0.0356633\ttotal: 3.75s\tremaining: 5.6s\n",
      "300:\tlearn: 0.0405103\ttotal: 3.56s\tremaining: 5.31s\n",
      "200:\tlearn: 0.0509896\ttotal: 2.38s\tremaining: 6.5s\n",
      "700:\tlearn: 0.0326705\ttotal: 9.32s\tremaining: 651ms\n",
      "300:\tlearn: 0.0391163\ttotal: 3.69s\tremaining: 5.51s\n",
      "700:\tlearn: 0.0288486\ttotal: 9.03s\tremaining: 631ms\n",
      "400:\tlearn: 0.0251198\ttotal: 5.2s\tremaining: 4.53s\n",
      "200:\tlearn: 0.1739888\ttotal: 2.24s\tremaining: 6.13s\n",
      "400:\tlearn: 0.0256088\ttotal: 4.95s\tremaining: 4.3s\n",
      "400:\tlearn: 0.0294603\ttotal: 4.65s\tremaining: 4.04s\n",
      "749:\tlearn: 0.0303549\ttotal: 9.86s\tremaining: 0us\n"
     ]
    },
    {
     "name": "stderr",
     "output_type": "stream",
     "text": [
      "/Users/a/.pyenv/versions/3.10.0/lib/python3.10/site-packages/sklearn/metrics/_classification.py:2916: UserWarning: The y_pred values do not sum to one. Starting from 1.5 thiswill result in an error.\n",
      "  warnings.warn(\n",
      "/Users/a/.pyenv/versions/3.10.0/lib/python3.10/site-packages/sklearn/metrics/_classification.py:2916: UserWarning: The y_pred values do not sum to one. Starting from 1.5 thiswill result in an error.\n",
      "  warnings.warn(\n"
     ]
    },
    {
     "name": "stdout",
     "output_type": "stream",
     "text": [
      "[CV] END depth=4, iterations=750, l2_leaf_reg=1, learning_rate=0.05; total time=  10.0s\n",
      "0:\tlearn: 0.6795025\ttotal: 7.42ms\tremaining: 5.56s\n",
      "749:\tlearn: 0.0268329\ttotal: 9.59s\tremaining: 0us\n",
      "[CV] END depth=4, iterations=750, l2_leaf_reg=1, learning_rate=0.05; total time=   9.7s\n",
      "0:\tlearn: 0.6806483\ttotal: 10.4ms\tremaining: 7.81s\n",
      "300:\tlearn: 0.0342027\ttotal: 3.56s\tremaining: 5.31s\n",
      "400:\tlearn: 0.0281185\ttotal: 4.71s\tremaining: 4.1s\n",
      "500:\tlearn: 0.0188714\ttotal: 6.31s\tremaining: 3.14s\n",
      "300:\tlearn: 0.1486664\ttotal: 3.35s\tremaining: 5s\n",
      "500:\tlearn: 0.0224360\ttotal: 5.72s\tremaining: 2.84s\n",
      "500:\tlearn: 0.0192111\ttotal: 6.15s\tremaining: 3.06s\n",
      "100:\tlearn: 0.2400423\ttotal: 1.1s\tremaining: 7.09s\n",
      "100:\tlearn: 0.2518707\ttotal: 1.08s\tremaining: 6.98s\n",
      "400:\tlearn: 0.0244607\ttotal: 4.7s\tremaining: 4.09s\n",
      "500:\tlearn: 0.0215171\ttotal: 5.94s\tremaining: 2.95s\n",
      "600:\tlearn: 0.0147675\ttotal: 7.51s\tremaining: 1.86s\n",
      "400:\tlearn: 0.1336271\ttotal: 4.59s\tremaining: 4s\n",
      "600:\tlearn: 0.0172773\ttotal: 7.05s\tremaining: 1.75s\n",
      "600:\tlearn: 0.0150817\ttotal: 7.58s\tremaining: 1.88s\n",
      "200:\tlearn: 0.1854225\ttotal: 2.39s\tremaining: 6.53s\n",
      "200:\tlearn: 0.1730835\ttotal: 2.45s\tremaining: 6.7s\n",
      "500:\tlearn: 0.0179074\ttotal: 6.08s\tremaining: 3.02s\n",
      "600:\tlearn: 0.0165995\ttotal: 7.12s\tremaining: 1.76s\n",
      "700:\tlearn: 0.0117796\ttotal: 8.68s\tremaining: 607ms\n",
      "500:\tlearn: 0.1242794\ttotal: 5.7s\tremaining: 2.83s\n",
      "700:\tlearn: 0.0140354\ttotal: 8.19s\tremaining: 572ms\n",
      "749:\tlearn: 0.0107046\ttotal: 9.19s\tremaining: 0us\n",
      "[CV] END depth=4, iterations=750, l2_leaf_reg=1, learning_rate=0.1; total time=   9.3s\n",
      "300:\tlearn: 0.1596736\ttotal: 3.46s\tremaining: 5.16s\n",
      "0:\tlearn: 0.6803141\ttotal: 5.85ms\tremaining: 4.38s\n"
     ]
    },
    {
     "name": "stderr",
     "output_type": "stream",
     "text": [
      "/Users/a/.pyenv/versions/3.10.0/lib/python3.10/site-packages/sklearn/metrics/_classification.py:2916: UserWarning: The y_pred values do not sum to one. Starting from 1.5 thiswill result in an error.\n",
      "  warnings.warn(\n"
     ]
    },
    {
     "name": "stdout",
     "output_type": "stream",
     "text": [
      "700:\tlearn: 0.0122097\ttotal: 8.77s\tremaining: 613ms\n",
      "300:\tlearn: 0.1483415\ttotal: 3.67s\tremaining: 5.47s\n",
      "600:\tlearn: 0.0139927\ttotal: 7.24s\tremaining: 1.79s\n",
      "749:\tlearn: 0.0127705\ttotal: 8.71s\tremaining: 0us\n",
      "[CV] END depth=4, iterations=750, l2_leaf_reg=1, learning_rate=0.1; total time=   8.8s\n",
      "0:\tlearn: 0.6795682\ttotal: 12ms\tremaining: 8.96s\n",
      "700:\tlearn: 0.0131703\ttotal: 8.29s\tremaining: 580ms\n"
     ]
    },
    {
     "name": "stderr",
     "output_type": "stream",
     "text": [
      "/Users/a/.pyenv/versions/3.10.0/lib/python3.10/site-packages/sklearn/metrics/_classification.py:2916: UserWarning: The y_pred values do not sum to one. Starting from 1.5 thiswill result in an error.\n",
      "  warnings.warn(\n"
     ]
    },
    {
     "name": "stdout",
     "output_type": "stream",
     "text": [
      "749:\tlearn: 0.0109531\ttotal: 9.32s\tremaining: 0us\n",
      "[CV] END depth=4, iterations=750, l2_leaf_reg=1, learning_rate=0.1; total time=   9.4s\n",
      "0:\tlearn: 0.6393831\ttotal: 16.7ms\tremaining: 12.5s\n",
      "600:\tlearn: 0.1169939\ttotal: 6.9s\tremaining: 1.71s\n"
     ]
    },
    {
     "name": "stderr",
     "output_type": "stream",
     "text": [
      "/Users/a/.pyenv/versions/3.10.0/lib/python3.10/site-packages/sklearn/metrics/_classification.py:2916: UserWarning: The y_pred values do not sum to one. Starting from 1.5 thiswill result in an error.\n",
      "  warnings.warn(\n"
     ]
    },
    {
     "name": "stdout",
     "output_type": "stream",
     "text": [
      "400:\tlearn: 0.1455287\ttotal: 4.61s\tremaining: 4.01s\n",
      "100:\tlearn: 0.2457852\ttotal: 1.18s\tremaining: 7.57s\n",
      "749:\tlearn: 0.0119732\ttotal: 8.97s\tremaining: 0us\n",
      "[CV] END depth=4, iterations=750, l2_leaf_reg=1, learning_rate=0.1; total time=   9.0s\n",
      "0:\tlearn: 0.6278063\ttotal: 7.39ms\tremaining: 5.54s\n"
     ]
    },
    {
     "name": "stderr",
     "output_type": "stream",
     "text": [
      "/Users/a/.pyenv/versions/3.10.0/lib/python3.10/site-packages/sklearn/metrics/_classification.py:2916: UserWarning: The y_pred values do not sum to one. Starting from 1.5 thiswill result in an error.\n",
      "  warnings.warn(\n"
     ]
    },
    {
     "name": "stdout",
     "output_type": "stream",
     "text": [
      "400:\tlearn: 0.1342452\ttotal: 4.94s\tremaining: 4.3s\n",
      "700:\tlearn: 0.0110730\ttotal: 8.45s\tremaining: 591ms\n",
      "100:\tlearn: 0.2388479\ttotal: 1.29s\tremaining: 8.3s\n",
      "100:\tlearn: 0.1236304\ttotal: 1.05s\tremaining: 6.78s\n",
      "700:\tlearn: 0.1111573\ttotal: 8.07s\tremaining: 564ms\n",
      "749:\tlearn: 0.0100602\ttotal: 9.02s\tremaining: 0us\n",
      "[CV] END depth=4, iterations=750, l2_leaf_reg=1, learning_rate=0.1; total time=   9.1s\n",
      "0:\tlearn: 0.6333224\ttotal: 8.46ms\tremaining: 6.33s\n"
     ]
    },
    {
     "name": "stderr",
     "output_type": "stream",
     "text": [
      "/Users/a/.pyenv/versions/3.10.0/lib/python3.10/site-packages/sklearn/metrics/_classification.py:2916: UserWarning: The y_pred values do not sum to one. Starting from 1.5 thiswill result in an error.\n",
      "  warnings.warn(\n"
     ]
    },
    {
     "name": "stdout",
     "output_type": "stream",
     "text": [
      "500:\tlearn: 0.1348296\ttotal: 5.69s\tremaining: 2.83s\n",
      "200:\tlearn: 0.1800652\ttotal: 2.31s\tremaining: 6.32s\n",
      "100:\tlearn: 0.1200361\ttotal: 1.2s\tremaining: 7.72s\n",
      "749:\tlearn: 0.1089241\ttotal: 8.63s\tremaining: 0us\n",
      "[CV] END depth=4, iterations=750, l2_leaf_reg=3, learning_rate=0.01; total time=   8.7s\n",
      "0:\tlearn: 0.6316882\ttotal: 8.69ms\tremaining: 6.51s\n",
      "500:\tlearn: 0.1243001\ttotal: 6.12s\tremaining: 3.04s\n"
     ]
    },
    {
     "name": "stderr",
     "output_type": "stream",
     "text": [
      "/Users/a/.pyenv/versions/3.10.0/lib/python3.10/site-packages/sklearn/metrics/_classification.py:2916: UserWarning: The y_pred values do not sum to one. Starting from 1.5 thiswill result in an error.\n",
      "  warnings.warn(\n"
     ]
    },
    {
     "name": "stdout",
     "output_type": "stream",
     "text": [
      "200:\tlearn: 0.0963963\ttotal: 2.24s\tremaining: 6.12s\n",
      "200:\tlearn: 0.1731870\ttotal: 2.62s\tremaining: 7.16s\n",
      "600:\tlearn: 0.1265556\ttotal: 6.82s\tremaining: 1.69s\n",
      "300:\tlearn: 0.1540299\ttotal: 3.43s\tremaining: 5.12s\n",
      "100:\tlearn: 0.1334851\ttotal: 1.47s\tremaining: 9.45s\n",
      "200:\tlearn: 0.0934173\ttotal: 2.34s\tremaining: 6.38s\n",
      "100:\tlearn: 0.1283952\ttotal: 1.15s\tremaining: 7.42s\n",
      "300:\tlearn: 0.0803188\ttotal: 3.25s\tremaining: 4.85s\n",
      "300:\tlearn: 0.1481692\ttotal: 3.64s\tremaining: 5.43s\n",
      "700:\tlearn: 0.1194643\ttotal: 7.88s\tremaining: 551ms\n",
      "400:\tlearn: 0.1389869\ttotal: 4.5s\tremaining: 3.92s\n",
      "300:\tlearn: 0.0774073\ttotal: 3.36s\tremaining: 5.01s\n",
      "200:\tlearn: 0.0982732\ttotal: 2.15s\tremaining: 5.87s\n",
      "400:\tlearn: 0.0692127\ttotal: 4.15s\tremaining: 3.61s\n",
      "600:\tlearn: 0.1163789\ttotal: 8.38s\tremaining: 2.08s\n",
      "749:\tlearn: 0.1166706\ttotal: 8.36s\tremaining: 0us\n"
     ]
    },
    {
     "name": "stderr",
     "output_type": "stream",
     "text": [
      "/Users/a/.pyenv/versions/3.10.0/lib/python3.10/site-packages/sklearn/metrics/_classification.py:2916: UserWarning: The y_pred values do not sum to one. Starting from 1.5 thiswill result in an error.\n",
      "  warnings.warn(\n"
     ]
    },
    {
     "name": "stdout",
     "output_type": "stream",
     "text": [
      "[CV] END depth=4, iterations=750, l2_leaf_reg=3, learning_rate=0.01; total time=   8.4s\n",
      "0:\tlearn: 0.6281493\ttotal: 8.67ms\tremaining: 6.49s\n",
      "400:\tlearn: 0.1333368\ttotal: 4.64s\tremaining: 4.04s\n",
      "400:\tlearn: 0.0670836\ttotal: 4.31s\tremaining: 3.75s\n",
      "500:\tlearn: 0.1288359\ttotal: 5.55s\tremaining: 2.76s\n",
      "300:\tlearn: 0.0833716\ttotal: 3.08s\tremaining: 4.6s\n",
      "500:\tlearn: 0.0611030\ttotal: 5.1s\tremaining: 2.54s\n",
      "200:\tlearn: 0.1047998\ttotal: 3.75s\tremaining: 10.2s\n",
      "100:\tlearn: 0.1239483\ttotal: 996ms\tremaining: 6.4s\n",
      "500:\tlearn: 0.1229876\ttotal: 5.71s\tremaining: 2.84s\n",
      "700:\tlearn: 0.1103488\ttotal: 10.1s\tremaining: 707ms\n",
      "500:\tlearn: 0.0587048\ttotal: 5.47s\tremaining: 2.72s\n",
      "600:\tlearn: 0.1204796\ttotal: 6.71s\tremaining: 1.66s\n",
      "400:\tlearn: 0.0718306\ttotal: 4.26s\tremaining: 3.71s\n",
      "600:\tlearn: 0.0538604\ttotal: 6.27s\tremaining: 1.55s\n",
      "300:\tlearn: 0.0873400\ttotal: 5.01s\tremaining: 7.47s\n",
      "200:\tlearn: 0.0935938\ttotal: 2.19s\tremaining: 5.99s\n",
      "749:\tlearn: 0.1079533\ttotal: 10.7s\tremaining: 0us\n",
      "[CV] END depth=4, iterations=750, l2_leaf_reg=3, learning_rate=0.01; total time=  10.8s\n",
      "0:\tlearn: 0.5918510\ttotal: 10.1ms\tremaining: 7.54s\n",
      "600:\tlearn: 0.1154246\ttotal: 6.85s\tremaining: 1.7s\n"
     ]
    },
    {
     "name": "stderr",
     "output_type": "stream",
     "text": [
      "/Users/a/.pyenv/versions/3.10.0/lib/python3.10/site-packages/sklearn/metrics/_classification.py:2916: UserWarning: The y_pred values do not sum to one. Starting from 1.5 thiswill result in an error.\n",
      "  warnings.warn(\n"
     ]
    },
    {
     "name": "stdout",
     "output_type": "stream",
     "text": [
      "700:\tlearn: 0.1140962\ttotal: 7.82s\tremaining: 547ms\n",
      "600:\tlearn: 0.0523158\ttotal: 6.62s\tremaining: 1.64s\n",
      "500:\tlearn: 0.0638905\ttotal: 5.43s\tremaining: 2.7s\n",
      "700:\tlearn: 0.0482743\ttotal: 7.47s\tremaining: 522ms\n",
      "400:\tlearn: 0.0754167\ttotal: 6.16s\tremaining: 5.37s\n",
      "100:\tlearn: 0.0960324\ttotal: 1.09s\tremaining: 7.02s\n",
      "300:\tlearn: 0.0775949\ttotal: 3.34s\tremaining: 4.98s\n",
      "749:\tlearn: 0.1117279\ttotal: 8.3s\tremaining: 0us\n",
      "[CV] END depth=4, iterations=750, l2_leaf_reg=3, learning_rate=0.01; total time=   8.4s\n"
     ]
    },
    {
     "name": "stderr",
     "output_type": "stream",
     "text": [
      "/Users/a/.pyenv/versions/3.10.0/lib/python3.10/site-packages/sklearn/metrics/_classification.py:2916: UserWarning: The y_pred values do not sum to one. Starting from 1.5 thiswill result in an error.\n",
      "  warnings.warn(\n"
     ]
    },
    {
     "name": "stdout",
     "output_type": "stream",
     "text": [
      "0:\tlearn: 0.5695819\ttotal: 33.6ms\tremaining: 25.2s\n",
      "700:\tlearn: 0.1096496\ttotal: 8.07s\tremaining: 564ms\n",
      "749:\tlearn: 0.0455039\ttotal: 7.98s\tremaining: 0us\n",
      "[CV] END depth=4, iterations=750, l2_leaf_reg=3, learning_rate=0.05; total time=   8.0s\n",
      "0:\tlearn: 0.5800810\ttotal: 9.14ms\tremaining: 6.85s\n"
     ]
    },
    {
     "name": "stderr",
     "output_type": "stream",
     "text": [
      "/Users/a/.pyenv/versions/3.10.0/lib/python3.10/site-packages/sklearn/metrics/_classification.py:2916: UserWarning: The y_pred values do not sum to one. Starting from 1.5 thiswill result in an error.\n",
      "  warnings.warn(\n"
     ]
    },
    {
     "name": "stdout",
     "output_type": "stream",
     "text": [
      "700:\tlearn: 0.0464717\ttotal: 7.76s\tremaining: 543ms\n",
      "749:\tlearn: 0.1072205\ttotal: 8.68s\tremaining: 0us\n",
      "[CV] END depth=4, iterations=750, l2_leaf_reg=3, learning_rate=0.01; total time=   8.8s\n",
      "0:\tlearn: 0.5769106\ttotal: 13.1ms\tremaining: 9.8s\n"
     ]
    },
    {
     "name": "stderr",
     "output_type": "stream",
     "text": [
      "/Users/a/.pyenv/versions/3.10.0/lib/python3.10/site-packages/sklearn/metrics/_classification.py:2916: UserWarning: The y_pred values do not sum to one. Starting from 1.5 thiswill result in an error.\n",
      "  warnings.warn(\n"
     ]
    },
    {
     "name": "stdout",
     "output_type": "stream",
     "text": [
      "600:\tlearn: 0.0568250\ttotal: 6.71s\tremaining: 1.66s\n",
      "500:\tlearn: 0.0664483\ttotal: 7.33s\tremaining: 3.64s\n",
      "100:\tlearn: 0.0939064\ttotal: 1.22s\tremaining: 7.86s\n",
      "200:\tlearn: 0.0692698\ttotal: 2.43s\tremaining: 6.63s\n",
      "400:\tlearn: 0.0670037\ttotal: 4.69s\tremaining: 4.08s\n",
      "749:\tlearn: 0.0438807\ttotal: 8.49s\tremaining: 0us\n",
      "[CV] END depth=4, iterations=750, l2_leaf_reg=3, learning_rate=0.05; total time=   8.6s\n",
      "0:\tlearn: 0.5702986\ttotal: 25.4ms\tremaining: 19s\n"
     ]
    },
    {
     "name": "stderr",
     "output_type": "stream",
     "text": [
      "/Users/a/.pyenv/versions/3.10.0/lib/python3.10/site-packages/sklearn/metrics/_classification.py:2916: UserWarning: The y_pred values do not sum to one. Starting from 1.5 thiswill result in an error.\n",
      "  warnings.warn(\n"
     ]
    },
    {
     "name": "stdout",
     "output_type": "stream",
     "text": [
      "100:\tlearn: 0.1025902\ttotal: 1.35s\tremaining: 8.66s\n",
      "100:\tlearn: 0.1001384\ttotal: 1.44s\tremaining: 9.28s\n",
      "700:\tlearn: 0.0509698\ttotal: 8.1s\tremaining: 566ms\n",
      "600:\tlearn: 0.0591355\ttotal: 8.68s\tremaining: 2.15s\n",
      "200:\tlearn: 0.0650705\ttotal: 2.46s\tremaining: 6.71s\n",
      "100:\tlearn: 0.0932846\ttotal: 1.25s\tremaining: 8.05s\n",
      "500:\tlearn: 0.0587221\ttotal: 6.04s\tremaining: 3s\n",
      "300:\tlearn: 0.0537757\ttotal: 3.82s\tremaining: 5.7s\n",
      "749:\tlearn: 0.0481999\ttotal: 8.83s\tremaining: 0us\n",
      "[CV] END depth=4, iterations=750, l2_leaf_reg=3, learning_rate=0.05; total time=   8.9s\n",
      "0:\tlearn: 0.6816185\ttotal: 50.3ms\tremaining: 25.1s\n",
      "200:\tlearn: 0.0740212\ttotal: 2.84s\tremaining: 7.76s\n"
     ]
    },
    {
     "name": "stderr",
     "output_type": "stream",
     "text": [
      "/Users/a/.pyenv/versions/3.10.0/lib/python3.10/site-packages/sklearn/metrics/_classification.py:2916: UserWarning: The y_pred values do not sum to one. Starting from 1.5 thiswill result in an error.\n",
      "  warnings.warn(\n"
     ]
    },
    {
     "name": "stdout",
     "output_type": "stream",
     "text": [
      "200:\tlearn: 0.0725102\ttotal: 2.76s\tremaining: 7.55s\n",
      "700:\tlearn: 0.0531517\ttotal: 10s\tremaining: 701ms\n",
      "400:\tlearn: 0.0428030\ttotal: 5.07s\tremaining: 4.41s\n",
      "300:\tlearn: 0.0507444\ttotal: 3.92s\tremaining: 5.84s\n",
      "600:\tlearn: 0.0516620\ttotal: 7.33s\tremaining: 1.82s\n",
      "200:\tlearn: 0.0648431\ttotal: 2.6s\tremaining: 7.11s\n",
      "749:\tlearn: 0.0504651\ttotal: 10.6s\tremaining: 0us\n",
      "[CV] END depth=4, iterations=750, l2_leaf_reg=3, learning_rate=0.05; total time=  10.7s\n",
      "0:\tlearn: 0.6791959\ttotal: 42.5ms\tremaining: 21.2s\n"
     ]
    },
    {
     "name": "stderr",
     "output_type": "stream",
     "text": [
      "/Users/a/.pyenv/versions/3.10.0/lib/python3.10/site-packages/sklearn/metrics/_classification.py:2916: UserWarning: The y_pred values do not sum to one. Starting from 1.5 thiswill result in an error.\n",
      "  warnings.warn(\n"
     ]
    },
    {
     "name": "stdout",
     "output_type": "stream",
     "text": [
      "300:\tlearn: 0.0597015\ttotal: 4.42s\tremaining: 6.6s\n",
      "300:\tlearn: 0.0567233\ttotal: 4.13s\tremaining: 6.17s\n",
      "700:\tlearn: 0.0459687\ttotal: 8.63s\tremaining: 603ms\n",
      "400:\tlearn: 0.0408107\ttotal: 5.26s\tremaining: 4.58s\n",
      "500:\tlearn: 0.0345317\ttotal: 6.44s\tremaining: 3.2s\n",
      "300:\tlearn: 0.0498800\ttotal: 4.02s\tremaining: 6s\n",
      "749:\tlearn: 0.0435458\ttotal: 9.24s\tremaining: 0us\n",
      "[CV] END depth=4, iterations=750, l2_leaf_reg=3, learning_rate=0.05; total time=   9.3s\n",
      "0:\tlearn: 0.6801549\ttotal: 35ms\tremaining: 17.5s\n"
     ]
    },
    {
     "name": "stderr",
     "output_type": "stream",
     "text": [
      "/Users/a/.pyenv/versions/3.10.0/lib/python3.10/site-packages/sklearn/metrics/_classification.py:2916: UserWarning: The y_pred values do not sum to one. Starting from 1.5 thiswill result in an error.\n",
      "  warnings.warn(\n"
     ]
    },
    {
     "name": "stdout",
     "output_type": "stream",
     "text": [
      "100:\tlearn: 0.2122018\ttotal: 3.1s\tremaining: 12.2s\n",
      "400:\tlearn: 0.0453021\ttotal: 5.41s\tremaining: 4.71s\n",
      "400:\tlearn: 0.0470311\ttotal: 5.84s\tremaining: 5.08s\n",
      "500:\tlearn: 0.0329134\ttotal: 6.63s\tremaining: 3.29s\n",
      "600:\tlearn: 0.0287310\ttotal: 7.81s\tremaining: 1.94s\n",
      "400:\tlearn: 0.0398450\ttotal: 5.62s\tremaining: 4.89s\n",
      "100:\tlearn: 0.2131275\ttotal: 3.1s\tremaining: 12.3s\n",
      "500:\tlearn: 0.0364990\ttotal: 6.95s\tremaining: 3.46s\n",
      "500:\tlearn: 0.0390872\ttotal: 7.47s\tremaining: 3.71s\n",
      "700:\tlearn: 0.0242050\ttotal: 9.32s\tremaining: 652ms\n",
      "600:\tlearn: 0.0280456\ttotal: 8.24s\tremaining: 2.04s\n",
      "500:\tlearn: 0.0324154\ttotal: 7.32s\tremaining: 3.64s\n",
      "749:\tlearn: 0.0225692\ttotal: 10.2s\tremaining: 0us\n",
      "[CV] END depth=4, iterations=750, l2_leaf_reg=3, learning_rate=0.1; total time=  10.3s\n",
      "0:\tlearn: 0.6796197\ttotal: 17.4ms\tremaining: 8.66s\n"
     ]
    },
    {
     "name": "stderr",
     "output_type": "stream",
     "text": [
      "/Users/a/.pyenv/versions/3.10.0/lib/python3.10/site-packages/sklearn/metrics/_classification.py:2916: UserWarning: The y_pred values do not sum to one. Starting from 1.5 thiswill result in an error.\n",
      "  warnings.warn(\n"
     ]
    },
    {
     "name": "stdout",
     "output_type": "stream",
     "text": [
      "100:\tlearn: 0.2244484\ttotal: 3.46s\tremaining: 13.7s\n",
      "600:\tlearn: 0.0310089\ttotal: 8.66s\tremaining: 2.15s\n",
      "200:\tlearn: 0.1493737\ttotal: 6.38s\tremaining: 9.48s\n",
      "600:\tlearn: 0.0328962\ttotal: 9.21s\tremaining: 2.28s\n",
      "700:\tlearn: 0.0240705\ttotal: 9.94s\tremaining: 695ms\n",
      "600:\tlearn: 0.0272471\ttotal: 9.37s\tremaining: 2.32s\n",
      "700:\tlearn: 0.0262823\ttotal: 10.1s\tremaining: 706ms\n",
      "749:\tlearn: 0.0220771\ttotal: 10.9s\tremaining: 0us\n"
     ]
    },
    {
     "name": "stderr",
     "output_type": "stream",
     "text": [
      "/Users/a/.pyenv/versions/3.10.0/lib/python3.10/site-packages/sklearn/metrics/_classification.py:2916: UserWarning: The y_pred values do not sum to one. Starting from 1.5 thiswill result in an error.\n",
      "  warnings.warn(\n"
     ]
    },
    {
     "name": "stdout",
     "output_type": "stream",
     "text": [
      "[CV] END depth=4, iterations=750, l2_leaf_reg=3, learning_rate=0.1; total time=  11.1s\n",
      "0:\tlearn: 0.6781270\ttotal: 59ms\tremaining: 29.4s\n",
      "200:\tlearn: 0.1491612\ttotal: 6.9s\tremaining: 10.3s\n",
      "700:\tlearn: 0.0280966\ttotal: 11.1s\tremaining: 773ms\n",
      "749:\tlearn: 0.0244388\ttotal: 11.5s\tremaining: 0us\n",
      "[CV] END depth=4, iterations=750, l2_leaf_reg=3, learning_rate=0.1; total time=  11.6s\n",
      "0:\tlearn: 0.6381796\ttotal: 30.3ms\tremaining: 15.1s\n"
     ]
    },
    {
     "name": "stderr",
     "output_type": "stream",
     "text": [
      "/Users/a/.pyenv/versions/3.10.0/lib/python3.10/site-packages/sklearn/metrics/_classification.py:2916: UserWarning: The y_pred values do not sum to one. Starting from 1.5 thiswill result in an error.\n",
      "  warnings.warn(\n"
     ]
    },
    {
     "name": "stdout",
     "output_type": "stream",
     "text": [
      "749:\tlearn: 0.0263609\ttotal: 12.4s\tremaining: 0us\n",
      "[CV] END depth=4, iterations=750, l2_leaf_reg=3, learning_rate=0.1; total time=  12.5s\n",
      "0:\tlearn: 0.6264440\ttotal: 68.8ms\tremaining: 34.3s\n"
     ]
    },
    {
     "name": "stderr",
     "output_type": "stream",
     "text": [
      "/Users/a/.pyenv/versions/3.10.0/lib/python3.10/site-packages/sklearn/metrics/_classification.py:2916: UserWarning: The y_pred values do not sum to one. Starting from 1.5 thiswill result in an error.\n",
      "  warnings.warn(\n"
     ]
    },
    {
     "name": "stdout",
     "output_type": "stream",
     "text": [
      "700:\tlearn: 0.0230603\ttotal: 11.9s\tremaining: 832ms\n",
      "100:\tlearn: 0.2187358\ttotal: 4.48s\tremaining: 17.7s\n",
      "300:\tlearn: 0.1261509\ttotal: 10.7s\tremaining: 7.1s\n",
      "200:\tlearn: 0.1612853\ttotal: 7.94s\tremaining: 11.8s\n",
      "749:\tlearn: 0.0212309\ttotal: 13s\tremaining: 0us\n",
      "[CV] END depth=4, iterations=750, l2_leaf_reg=3, learning_rate=0.1; total time=  13.1s\n",
      "0:\tlearn: 0.6311142\ttotal: 32.2ms\tremaining: 16.1s\n"
     ]
    },
    {
     "name": "stderr",
     "output_type": "stream",
     "text": [
      "/Users/a/.pyenv/versions/3.10.0/lib/python3.10/site-packages/sklearn/metrics/_classification.py:2916: UserWarning: The y_pred values do not sum to one. Starting from 1.5 thiswill result in an error.\n",
      "  warnings.warn(\n"
     ]
    },
    {
     "name": "stdout",
     "output_type": "stream",
     "text": [
      "300:\tlearn: 0.1258089\ttotal: 11.1s\tremaining: 7.34s\n",
      "100:\tlearn: 0.2133265\ttotal: 4.57s\tremaining: 18s\n",
      "100:\tlearn: 0.1032108\ttotal: 4.09s\tremaining: 16.2s\n",
      "100:\tlearn: 0.1009658\ttotal: 3.85s\tremaining: 15.2s\n",
      "200:\tlearn: 0.1547932\ttotal: 8.24s\tremaining: 12.3s\n",
      "300:\tlearn: 0.1374779\ttotal: 11.6s\tremaining: 7.68s\n",
      "400:\tlearn: 0.1114720\ttotal: 14.6s\tremaining: 3.59s\n",
      "100:\tlearn: 0.1094061\ttotal: 4.13s\tremaining: 16.3s\n",
      "400:\tlearn: 0.1110874\ttotal: 14.7s\tremaining: 3.64s\n",
      "200:\tlearn: 0.1496878\ttotal: 8.34s\tremaining: 12.4s\n",
      "200:\tlearn: 0.0698235\ttotal: 7.58s\tremaining: 11.3s\n",
      "200:\tlearn: 0.0662785\ttotal: 7.34s\tremaining: 10.9s\n",
      "300:\tlearn: 0.1306051\ttotal: 11.6s\tremaining: 7.67s\n",
      "400:\tlearn: 0.1230609\ttotal: 15.2s\tremaining: 3.74s\n",
      "499:\tlearn: 0.1025632\ttotal: 18s\tremaining: 0us\n",
      "[CV] END depth=6, iterations=500, l2_leaf_reg=1, learning_rate=0.01; total time=  18.1s\n",
      "0:\tlearn: 0.6285703\ttotal: 45ms\tremaining: 22.5s\n"
     ]
    },
    {
     "name": "stderr",
     "output_type": "stream",
     "text": [
      "/Users/a/.pyenv/versions/3.10.0/lib/python3.10/site-packages/sklearn/metrics/_classification.py:2916: UserWarning: The y_pred values do not sum to one. Starting from 1.5 thiswill result in an error.\n",
      "  warnings.warn(\n"
     ]
    },
    {
     "name": "stdout",
     "output_type": "stream",
     "text": [
      "200:\tlearn: 0.0740773\ttotal: 7.45s\tremaining: 11.1s\n",
      "499:\tlearn: 0.1008037\ttotal: 18.2s\tremaining: 0us\n",
      "[CV] END depth=6, iterations=500, l2_leaf_reg=1, learning_rate=0.01; total time=  18.3s\n",
      "0:\tlearn: 0.6213555\ttotal: 45.6ms\tremaining: 22.8s\n"
     ]
    },
    {
     "name": "stderr",
     "output_type": "stream",
     "text": [
      "/Users/a/.pyenv/versions/3.10.0/lib/python3.10/site-packages/sklearn/metrics/_classification.py:2916: UserWarning: The y_pred values do not sum to one. Starting from 1.5 thiswill result in an error.\n",
      "  warnings.warn(\n"
     ]
    },
    {
     "name": "stdout",
     "output_type": "stream",
     "text": [
      "300:\tlearn: 0.1240863\ttotal: 11.9s\tremaining: 7.9s\n",
      "300:\tlearn: 0.0482462\ttotal: 11.2s\tremaining: 7.41s\n",
      "300:\tlearn: 0.0470944\ttotal: 10.9s\tremaining: 7.2s\n",
      "400:\tlearn: 0.1158387\ttotal: 15.3s\tremaining: 3.77s\n",
      "499:\tlearn: 0.1118364\ttotal: 18.9s\tremaining: 0us\n",
      "[CV] END depth=6, iterations=500, l2_leaf_reg=1, learning_rate=0.01; total time=  19.0s\n",
      "0:\tlearn: 0.5897889\ttotal: 39.5ms\tremaining: 19.7s\n"
     ]
    },
    {
     "name": "stderr",
     "output_type": "stream",
     "text": [
      "/Users/a/.pyenv/versions/3.10.0/lib/python3.10/site-packages/sklearn/metrics/_classification.py:2916: UserWarning: The y_pred values do not sum to one. Starting from 1.5 thiswill result in an error.\n",
      "  warnings.warn(\n"
     ]
    },
    {
     "name": "stdout",
     "output_type": "stream",
     "text": [
      "100:\tlearn: 0.1046023\ttotal: 3.95s\tremaining: 15.6s\n",
      "300:\tlearn: 0.0525706\ttotal: 11.2s\tremaining: 7.42s\n",
      "100:\tlearn: 0.0999462\ttotal: 3.7s\tremaining: 14.6s\n",
      "400:\tlearn: 0.1101510\ttotal: 15.4s\tremaining: 3.8s\n",
      "400:\tlearn: 0.0347030\ttotal: 14.7s\tremaining: 3.62s\n",
      "400:\tlearn: 0.0341265\ttotal: 14.4s\tremaining: 3.55s\n",
      "499:\tlearn: 0.1057810\ttotal: 18.8s\tremaining: 0us\n",
      "[CV] END depth=6, iterations=500, l2_leaf_reg=1, learning_rate=0.01; total time=  18.9s\n",
      "0:\tlearn: 0.5672670\ttotal: 29.4ms\tremaining: 14.6s\n"
     ]
    },
    {
     "name": "stderr",
     "output_type": "stream",
     "text": [
      "/Users/a/.pyenv/versions/3.10.0/lib/python3.10/site-packages/sklearn/metrics/_classification.py:2916: UserWarning: The y_pred values do not sum to one. Starting from 1.5 thiswill result in an error.\n",
      "  warnings.warn(\n"
     ]
    },
    {
     "name": "stdout",
     "output_type": "stream",
     "text": [
      "100:\tlearn: 0.0692525\ttotal: 3.32s\tremaining: 13.1s\n",
      "200:\tlearn: 0.0716434\ttotal: 7.32s\tremaining: 10.9s\n",
      "400:\tlearn: 0.0382321\ttotal: 14.4s\tremaining: 3.55s\n",
      "499:\tlearn: 0.1003208\ttotal: 18.5s\tremaining: 0us\n",
      "[CV] END depth=6, iterations=500, l2_leaf_reg=1, learning_rate=0.01; total time=  18.6s\n",
      "0:\tlearn: 0.5762877\ttotal: 34.9ms\tremaining: 17.4s\n",
      "200:\tlearn: 0.0649559\ttotal: 7.03s\tremaining: 10.4s\n"
     ]
    },
    {
     "name": "stderr",
     "output_type": "stream",
     "text": [
      "/Users/a/.pyenv/versions/3.10.0/lib/python3.10/site-packages/sklearn/metrics/_classification.py:2916: UserWarning: The y_pred values do not sum to one. Starting from 1.5 thiswill result in an error.\n",
      "  warnings.warn(\n"
     ]
    },
    {
     "name": "stdout",
     "output_type": "stream",
     "text": [
      "499:\tlearn: 0.0256593\ttotal: 17.4s\tremaining: 0us\n",
      "[CV] END depth=6, iterations=500, l2_leaf_reg=1, learning_rate=0.05; total time=  17.5s\n",
      "499:\tlearn: 0.0257578\ttotal: 17.9s\tremaining: 0us\n",
      "[CV] END depth=6, iterations=500, l2_leaf_reg=1, learning_rate=0.05; total time=  18.0s\n",
      "0:\tlearn: 0.5715293\ttotal: 24.1ms\tremaining: 12s\n",
      "0:\tlearn: 0.5577193\ttotal: 39.3ms\tremaining: 19.6s\n"
     ]
    },
    {
     "name": "stderr",
     "output_type": "stream",
     "text": [
      "/Users/a/.pyenv/versions/3.10.0/lib/python3.10/site-packages/sklearn/metrics/_classification.py:2916: UserWarning: The y_pred values do not sum to one. Starting from 1.5 thiswill result in an error.\n",
      "  warnings.warn(\n",
      "/Users/a/.pyenv/versions/3.10.0/lib/python3.10/site-packages/sklearn/metrics/_classification.py:2916: UserWarning: The y_pred values do not sum to one. Starting from 1.5 thiswill result in an error.\n",
      "  warnings.warn(\n"
     ]
    },
    {
     "name": "stdout",
     "output_type": "stream",
     "text": [
      "100:\tlearn: 0.0681121\ttotal: 3.12s\tremaining: 12.3s\n",
      "200:\tlearn: 0.0345362\ttotal: 6.37s\tremaining: 9.47s\n",
      "300:\tlearn: 0.0503963\ttotal: 10.4s\tremaining: 6.9s\n",
      "499:\tlearn: 0.0289605\ttotal: 17.4s\tremaining: 0us\n",
      "[CV] END depth=6, iterations=500, l2_leaf_reg=1, learning_rate=0.05; total time=  17.5s\n",
      "0:\tlearn: 0.6819263\ttotal: 31.7ms\tremaining: 15.8s\n"
     ]
    },
    {
     "name": "stderr",
     "output_type": "stream",
     "text": [
      "/Users/a/.pyenv/versions/3.10.0/lib/python3.10/site-packages/sklearn/metrics/_classification.py:2916: UserWarning: The y_pred values do not sum to one. Starting from 1.5 thiswill result in an error.\n",
      "  warnings.warn(\n"
     ]
    },
    {
     "name": "stdout",
     "output_type": "stream",
     "text": [
      "300:\tlearn: 0.0442070\ttotal: 9.93s\tremaining: 6.57s\n",
      "100:\tlearn: 0.0739623\ttotal: 3.21s\tremaining: 12.7s\n",
      "100:\tlearn: 0.0656360\ttotal: 3.23s\tremaining: 12.8s\n",
      "100:\tlearn: 0.0706887\ttotal: 3.33s\tremaining: 13.2s\n",
      "400:\tlearn: 0.0372736\ttotal: 13.1s\tremaining: 3.23s\n",
      "200:\tlearn: 0.0347133\ttotal: 6.34s\tremaining: 9.43s\n",
      "300:\tlearn: 0.0197183\ttotal: 9.84s\tremaining: 6.51s\n",
      "100:\tlearn: 0.2182916\ttotal: 3.34s\tremaining: 13.2s\n",
      "400:\tlearn: 0.0316741\ttotal: 13.2s\tremaining: 3.27s\n",
      "200:\tlearn: 0.0387164\ttotal: 6.64s\tremaining: 9.88s\n",
      "200:\tlearn: 0.0366512\ttotal: 6.51s\tremaining: 9.69s\n",
      "200:\tlearn: 0.0308157\ttotal: 6.54s\tremaining: 9.73s\n",
      "499:\tlearn: 0.0283531\ttotal: 16.3s\tremaining: 0us\n",
      "[CV] END depth=6, iterations=500, l2_leaf_reg=1, learning_rate=0.05; total time=  16.4s\n",
      "300:\tlearn: 0.0202185\ttotal: 9.54s\tremaining: 6.31s\n",
      "0:\tlearn: 0.6797309\ttotal: 60.9ms\tremaining: 30.4s\n"
     ]
    },
    {
     "name": "stderr",
     "output_type": "stream",
     "text": [
      "/Users/a/.pyenv/versions/3.10.0/lib/python3.10/site-packages/sklearn/metrics/_classification.py:2916: UserWarning: The y_pred values do not sum to one. Starting from 1.5 thiswill result in an error.\n",
      "  warnings.warn(\n"
     ]
    },
    {
     "name": "stdout",
     "output_type": "stream",
     "text": [
      "400:\tlearn: 0.0129025\ttotal: 13.4s\tremaining: 3.31s\n",
      "200:\tlearn: 0.1560333\ttotal: 6.55s\tremaining: 9.75s\n",
      "499:\tlearn: 0.0235226\ttotal: 16.2s\tremaining: 0us\n",
      "[CV] END depth=6, iterations=500, l2_leaf_reg=1, learning_rate=0.05; total time=  16.3s\n",
      "0:\tlearn: 0.6806446\ttotal: 28.3ms\tremaining: 14.1s\n"
     ]
    },
    {
     "name": "stderr",
     "output_type": "stream",
     "text": [
      "/Users/a/.pyenv/versions/3.10.0/lib/python3.10/site-packages/sklearn/metrics/_classification.py:2916: UserWarning: The y_pred values do not sum to one. Starting from 1.5 thiswill result in an error.\n",
      "  warnings.warn(\n"
     ]
    },
    {
     "name": "stdout",
     "output_type": "stream",
     "text": [
      "300:\tlearn: 0.0228776\ttotal: 9.99s\tremaining: 6.61s\n",
      "300:\tlearn: 0.0173905\ttotal: 9.38s\tremaining: 6.2s\n",
      "300:\tlearn: 0.0220854\ttotal: 9.62s\tremaining: 6.36s\n",
      "400:\tlearn: 0.0130847\ttotal: 12.6s\tremaining: 3.12s\n",
      "100:\tlearn: 0.2208287\ttotal: 3.39s\tremaining: 13.4s\n",
      "499:\tlearn: 0.0092588\ttotal: 16.4s\tremaining: 0us\n",
      "[CV] END depth=6, iterations=500, l2_leaf_reg=1, learning_rate=0.1; total time=  16.6s\n",
      "300:\tlearn: 0.1340039\ttotal: 9.51s\tremaining: 6.29s\n",
      "0:\tlearn: 0.6803550\ttotal: 42.2ms\tremaining: 21.1s\n"
     ]
    },
    {
     "name": "stderr",
     "output_type": "stream",
     "text": [
      "/Users/a/.pyenv/versions/3.10.0/lib/python3.10/site-packages/sklearn/metrics/_classification.py:2916: UserWarning: The y_pred values do not sum to one. Starting from 1.5 thiswill result in an error.\n",
      "  warnings.warn(\n"
     ]
    },
    {
     "name": "stdout",
     "output_type": "stream",
     "text": [
      "100:\tlearn: 0.2297704\ttotal: 3s\tremaining: 11.8s\n",
      "400:\tlearn: 0.0142024\ttotal: 12.5s\tremaining: 3.09s\n",
      "400:\tlearn: 0.0113387\ttotal: 12.6s\tremaining: 3.1s\n",
      "400:\tlearn: 0.0151254\ttotal: 13.3s\tremaining: 3.28s\n",
      "200:\tlearn: 0.1561074\ttotal: 6.38s\tremaining: 9.49s\n",
      "499:\tlearn: 0.0093878\ttotal: 16s\tremaining: 0us\n",
      "[CV] END depth=6, iterations=500, l2_leaf_reg=1, learning_rate=0.1; total time=  16.1s\n",
      "0:\tlearn: 0.6788818\ttotal: 31.2ms\tremaining: 15.6s\n"
     ]
    },
    {
     "name": "stderr",
     "output_type": "stream",
     "text": [
      "/Users/a/.pyenv/versions/3.10.0/lib/python3.10/site-packages/sklearn/metrics/_classification.py:2916: UserWarning: The y_pred values do not sum to one. Starting from 1.5 thiswill result in an error.\n",
      "  warnings.warn(\n"
     ]
    },
    {
     "name": "stdout",
     "output_type": "stream",
     "text": [
      "100:\tlearn: 0.2256828\ttotal: 3.34s\tremaining: 13.2s\n",
      "400:\tlearn: 0.1200534\ttotal: 12.9s\tremaining: 3.19s\n",
      "200:\tlearn: 0.1675364\ttotal: 6.29s\tremaining: 9.36s\n",
      "499:\tlearn: 0.0102090\ttotal: 15.5s\tremaining: 0us\n",
      "[CV] END depth=6, iterations=500, l2_leaf_reg=1, learning_rate=0.1; total time=  15.6s\n",
      "0:\tlearn: 0.6395611\ttotal: 21.9ms\tremaining: 10.9s\n"
     ]
    },
    {
     "name": "stderr",
     "output_type": "stream",
     "text": [
      "/Users/a/.pyenv/versions/3.10.0/lib/python3.10/site-packages/sklearn/metrics/_classification.py:2916: UserWarning: The y_pred values do not sum to one. Starting from 1.5 thiswill result in an error.\n",
      "  warnings.warn(\n"
     ]
    },
    {
     "name": "stdout",
     "output_type": "stream",
     "text": [
      "499:\tlearn: 0.0081216\ttotal: 15.9s\tremaining: 0us\n",
      "[CV] END depth=6, iterations=500, l2_leaf_reg=1, learning_rate=0.1; total time=  16.0s\n",
      "0:\tlearn: 0.6288443\ttotal: 23ms\tremaining: 11.5s\n",
      "499:\tlearn: 0.0111042\ttotal: 16.7s\tremaining: 0us\n",
      "[CV] END depth=6, iterations=500, l2_leaf_reg=1, learning_rate=0.1; total time=  16.8s\n",
      "0:\tlearn: 0.6332995\ttotal: 30.9ms\tremaining: 15.4s\n"
     ]
    },
    {
     "name": "stderr",
     "output_type": "stream",
     "text": [
      "/Users/a/.pyenv/versions/3.10.0/lib/python3.10/site-packages/sklearn/metrics/_classification.py:2916: UserWarning: The y_pred values do not sum to one. Starting from 1.5 thiswill result in an error.\n",
      "  warnings.warn(\n",
      "/Users/a/.pyenv/versions/3.10.0/lib/python3.10/site-packages/sklearn/metrics/_classification.py:2916: UserWarning: The y_pred values do not sum to one. Starting from 1.5 thiswill result in an error.\n",
      "  warnings.warn(\n"
     ]
    },
    {
     "name": "stdout",
     "output_type": "stream",
     "text": [
      "300:\tlearn: 0.1329297\ttotal: 9.39s\tremaining: 6.21s\n",
      "100:\tlearn: 0.2201637\ttotal: 3.47s\tremaining: 13.7s\n",
      "200:\tlearn: 0.1615978\ttotal: 6.66s\tremaining: 9.9s\n",
      "499:\tlearn: 0.1119832\ttotal: 16.2s\tremaining: 0us\n",
      "[CV] END depth=6, iterations=500, l2_leaf_reg=3, learning_rate=0.01; total time=  16.3s\n",
      "0:\tlearn: 0.6318609\ttotal: 38.6ms\tremaining: 19.3s\n"
     ]
    },
    {
     "name": "stderr",
     "output_type": "stream",
     "text": [
      "/Users/a/.pyenv/versions/3.10.0/lib/python3.10/site-packages/sklearn/metrics/_classification.py:2916: UserWarning: The y_pred values do not sum to one. Starting from 1.5 thiswill result in an error.\n",
      "  warnings.warn(\n"
     ]
    },
    {
     "name": "stdout",
     "output_type": "stream",
     "text": [
      "300:\tlearn: 0.1447010\ttotal: 9.54s\tremaining: 6.31s\n",
      "100:\tlearn: 0.1115815\ttotal: 3.23s\tremaining: 12.8s\n",
      "100:\tlearn: 0.1106145\ttotal: 3.21s\tremaining: 12.7s\n",
      "100:\tlearn: 0.1184815\ttotal: 3.27s\tremaining: 12.9s\n",
      "400:\tlearn: 0.1190791\ttotal: 12.3s\tremaining: 3.04s\n",
      "200:\tlearn: 0.1567862\ttotal: 6.83s\tremaining: 10.2s\n",
      "300:\tlearn: 0.1378253\ttotal: 9.82s\tremaining: 6.49s\n",
      "400:\tlearn: 0.1310795\ttotal: 12.6s\tremaining: 3.12s\n",
      "100:\tlearn: 0.1145504\ttotal: 3.4s\tremaining: 13.4s\n",
      "200:\tlearn: 0.0844386\ttotal: 6.16s\tremaining: 9.17s\n",
      "200:\tlearn: 0.0805633\ttotal: 6.07s\tremaining: 9.03s\n",
      "200:\tlearn: 0.0881000\ttotal: 6.24s\tremaining: 9.29s\n",
      "499:\tlearn: 0.1100032\ttotal: 15.4s\tremaining: 0us\n",
      "[CV] END depth=6, iterations=500, l2_leaf_reg=3, learning_rate=0.01; total time=  15.5s\n",
      "0:\tlearn: 0.6247567\ttotal: 22.1ms\tremaining: 11s\n"
     ]
    },
    {
     "name": "stderr",
     "output_type": "stream",
     "text": [
      "/Users/a/.pyenv/versions/3.10.0/lib/python3.10/site-packages/sklearn/metrics/_classification.py:2916: UserWarning: The y_pred values do not sum to one. Starting from 1.5 thiswill result in an error.\n",
      "  warnings.warn(\n"
     ]
    },
    {
     "name": "stdout",
     "output_type": "stream",
     "text": [
      "300:\tlearn: 0.1321045\ttotal: 9.96s\tremaining: 6.59s\n",
      "400:\tlearn: 0.1236341\ttotal: 13s\tremaining: 3.22s\n",
      "499:\tlearn: 0.1208452\ttotal: 15.8s\tremaining: 0us\n",
      "[CV] END depth=6, iterations=500, l2_leaf_reg=3, learning_rate=0.01; total time=  16.0s\n",
      "200:\tlearn: 0.0876391\ttotal: 6.54s\tremaining: 9.72s\n",
      "0:\tlearn: 0.5921725\ttotal: 26ms\tremaining: 13s\n"
     ]
    },
    {
     "name": "stderr",
     "output_type": "stream",
     "text": [
      "/Users/a/.pyenv/versions/3.10.0/lib/python3.10/site-packages/sklearn/metrics/_classification.py:2916: UserWarning: The y_pred values do not sum to one. Starting from 1.5 thiswill result in an error.\n",
      "  warnings.warn(\n"
     ]
    },
    {
     "name": "stdout",
     "output_type": "stream",
     "text": [
      "300:\tlearn: 0.0657742\ttotal: 9.36s\tremaining: 6.19s\n",
      "300:\tlearn: 0.0633844\ttotal: 9.31s\tremaining: 6.15s\n",
      "300:\tlearn: 0.0691996\ttotal: 9.31s\tremaining: 6.15s\n",
      "100:\tlearn: 0.1086390\ttotal: 2.95s\tremaining: 11.7s\n",
      "400:\tlearn: 0.1184844\ttotal: 13.2s\tremaining: 3.26s\n",
      "499:\tlearn: 0.1141497\ttotal: 16s\tremaining: 0us\n"
     ]
    },
    {
     "name": "stderr",
     "output_type": "stream",
     "text": [
      "/Users/a/.pyenv/versions/3.10.0/lib/python3.10/site-packages/sklearn/metrics/_classification.py:2916: UserWarning: The y_pred values do not sum to one. Starting from 1.5 thiswill result in an error.\n",
      "  warnings.warn(\n"
     ]
    },
    {
     "name": "stdout",
     "output_type": "stream",
     "text": [
      "[CV] END depth=6, iterations=500, l2_leaf_reg=3, learning_rate=0.01; total time=  16.1s\n",
      "0:\tlearn: 0.5714047\ttotal: 21.3ms\tremaining: 10.6s\n",
      "300:\tlearn: 0.0687094\ttotal: 9.53s\tremaining: 6.3s\n",
      "100:\tlearn: 0.0831966\ttotal: 3.15s\tremaining: 12.4s\n",
      "400:\tlearn: 0.0547160\ttotal: 12.8s\tremaining: 3.15s\n",
      "400:\tlearn: 0.0564346\ttotal: 12.6s\tremaining: 3.11s\n",
      "400:\tlearn: 0.0512543\ttotal: 12.7s\tremaining: 3.15s\n",
      "200:\tlearn: 0.0790848\ttotal: 6.05s\tremaining: 9.01s\n",
      "499:\tlearn: 0.1093711\ttotal: 16.5s\tremaining: 0us\n",
      "[CV] END depth=6, iterations=500, l2_leaf_reg=3, learning_rate=0.01; total time=  16.6s\n",
      "0:\tlearn: 0.5800245\ttotal: 25.5ms\tremaining: 12.7s\n"
     ]
    },
    {
     "name": "stderr",
     "output_type": "stream",
     "text": [
      "/Users/a/.pyenv/versions/3.10.0/lib/python3.10/site-packages/sklearn/metrics/_classification.py:2916: UserWarning: The y_pred values do not sum to one. Starting from 1.5 thiswill result in an error.\n",
      "  warnings.warn(\n"
     ]
    },
    {
     "name": "stdout",
     "output_type": "stream",
     "text": [
      "100:\tlearn: 0.0826179\ttotal: 3.32s\tremaining: 13.1s\n",
      "400:\tlearn: 0.0563354\ttotal: 12.6s\tremaining: 3.11s\n",
      "200:\tlearn: 0.0525243\ttotal: 6.52s\tremaining: 9.69s\n",
      "499:\tlearn: 0.0449182\ttotal: 15.9s\tremaining: 0us\n",
      "[CV] END depth=6, iterations=500, l2_leaf_reg=3, learning_rate=0.05; total time=  16.0s\n",
      "0:\tlearn: 0.5771790\ttotal: 31.2ms\tremaining: 15.5s\n",
      "499:\tlearn: 0.0480414\ttotal: 15.5s\tremaining: 0us\n",
      "[CV] END depth=6, iterations=500, l2_leaf_reg=3, learning_rate=0.05; total time=  15.6s\n",
      "0:\tlearn: 0.5636198\ttotal: 37.7ms\tremaining: 18.8s\n",
      "499:\tlearn: 0.0423974\ttotal: 15.7s\tremaining: 0us\n",
      "[CV] END depth=6, iterations=500, l2_leaf_reg=3, learning_rate=0.05; total time=  15.8s\n"
     ]
    },
    {
     "name": "stderr",
     "output_type": "stream",
     "text": [
      "/Users/a/.pyenv/versions/3.10.0/lib/python3.10/site-packages/sklearn/metrics/_classification.py:2916: UserWarning: The y_pred values do not sum to one. Starting from 1.5 thiswill result in an error.\n",
      "  warnings.warn(\n",
      "/Users/a/.pyenv/versions/3.10.0/lib/python3.10/site-packages/sklearn/metrics/_classification.py:2916: UserWarning: The y_pred values do not sum to one. Starting from 1.5 thiswill result in an error.\n",
      "  warnings.warn(\n",
      "/Users/a/.pyenv/versions/3.10.0/lib/python3.10/site-packages/sklearn/metrics/_classification.py:2916: UserWarning: The y_pred values do not sum to one. Starting from 1.5 thiswill result in an error.\n",
      "  warnings.warn(\n"
     ]
    },
    {
     "name": "stdout",
     "output_type": "stream",
     "text": [
      "0:\tlearn: 0.6816185\ttotal: 32.2ms\tremaining: 24.1s\n",
      "300:\tlearn: 0.0614504\ttotal: 9.27s\tremaining: 6.13s\n",
      "200:\tlearn: 0.0511646\ttotal: 6.22s\tremaining: 9.25s\n",
      "100:\tlearn: 0.0900388\ttotal: 3.22s\tremaining: 12.7s\n",
      "499:\tlearn: 0.0468232\ttotal: 15.9s\tremaining: 0us\n",
      "[CV] END depth=6, iterations=500, l2_leaf_reg=3, learning_rate=0.05; total time=  16.0s\n",
      "0:\tlearn: 0.6791959\ttotal: 33ms\tremaining: 24.7s\n"
     ]
    },
    {
     "name": "stderr",
     "output_type": "stream",
     "text": [
      "/Users/a/.pyenv/versions/3.10.0/lib/python3.10/site-packages/sklearn/metrics/_classification.py:2916: UserWarning: The y_pred values do not sum to one. Starting from 1.5 thiswill result in an error.\n",
      "  warnings.warn(\n"
     ]
    },
    {
     "name": "stdout",
     "output_type": "stream",
     "text": [
      "300:\tlearn: 0.0358912\ttotal: 9.63s\tremaining: 6.36s\n",
      "100:\tlearn: 0.0795901\ttotal: 3.06s\tremaining: 12.1s\n",
      "100:\tlearn: 0.0858911\ttotal: 3.33s\tremaining: 13.2s\n",
      "100:\tlearn: 0.2122018\ttotal: 3.38s\tremaining: 21.8s\n",
      "400:\tlearn: 0.0499339\ttotal: 12.7s\tremaining: 3.14s\n",
      "200:\tlearn: 0.0558912\ttotal: 6.58s\tremaining: 9.79s\n",
      "300:\tlearn: 0.0352476\ttotal: 9.69s\tremaining: 6.4s\n",
      "100:\tlearn: 0.2131275\ttotal: 3.71s\tremaining: 23.9s\n",
      "400:\tlearn: 0.0266723\ttotal: 13.3s\tremaining: 3.28s\n",
      "200:\tlearn: 0.0475452\ttotal: 6.51s\tremaining: 9.69s\n",
      "200:\tlearn: 0.0547267\ttotal: 6.95s\tremaining: 10.3s\n",
      "200:\tlearn: 0.1493737\ttotal: 6.86s\tremaining: 18.7s\n",
      "499:\tlearn: 0.0410413\ttotal: 16.4s\tremaining: 0us\n",
      "[CV] END depth=6, iterations=500, l2_leaf_reg=3, learning_rate=0.05; total time=  16.5s\n",
      "0:\tlearn: 0.6801549\ttotal: 30.7ms\tremaining: 23s\n"
     ]
    },
    {
     "name": "stderr",
     "output_type": "stream",
     "text": [
      "/Users/a/.pyenv/versions/3.10.0/lib/python3.10/site-packages/sklearn/metrics/_classification.py:2916: UserWarning: The y_pred values do not sum to one. Starting from 1.5 thiswill result in an error.\n",
      "  warnings.warn(\n"
     ]
    },
    {
     "name": "stdout",
     "output_type": "stream",
     "text": [
      "400:\tlearn: 0.0259399\ttotal: 13.1s\tremaining: 3.23s\n",
      "300:\tlearn: 0.0399203\ttotal: 10.3s\tremaining: 6.82s\n",
      "200:\tlearn: 0.1491612\ttotal: 7.37s\tremaining: 20.1s\n",
      "499:\tlearn: 0.0206126\ttotal: 16.9s\tremaining: 0us\n",
      "[CV] END depth=6, iterations=500, l2_leaf_reg=3, learning_rate=0.1; total time=  17.0s\n",
      "0:\tlearn: 0.6796197\ttotal: 20.1ms\tremaining: 15s\n",
      "300:\tlearn: 0.0337971\ttotal: 9.87s\tremaining: 6.53s\n"
     ]
    },
    {
     "name": "stderr",
     "output_type": "stream",
     "text": [
      "/Users/a/.pyenv/versions/3.10.0/lib/python3.10/site-packages/sklearn/metrics/_classification.py:2916: UserWarning: The y_pred values do not sum to one. Starting from 1.5 thiswill result in an error.\n",
      "  warnings.warn(\n"
     ]
    },
    {
     "name": "stdout",
     "output_type": "stream",
     "text": [
      "300:\tlearn: 0.0381002\ttotal: 10.3s\tremaining: 6.83s\n",
      "300:\tlearn: 0.1261509\ttotal: 10.3s\tremaining: 15.3s\n",
      "100:\tlearn: 0.2244484\ttotal: 3.44s\tremaining: 22.1s\n",
      "400:\tlearn: 0.0295242\ttotal: 13.4s\tremaining: 3.31s\n",
      "499:\tlearn: 0.0200198\ttotal: 16.6s\tremaining: 0us\n",
      "[CV] END depth=6, iterations=500, l2_leaf_reg=3, learning_rate=0.1; total time=  16.7s\n",
      "0:\tlearn: 0.6781270\ttotal: 32.9ms\tremaining: 24.6s\n"
     ]
    },
    {
     "name": "stderr",
     "output_type": "stream",
     "text": [
      "/Users/a/.pyenv/versions/3.10.0/lib/python3.10/site-packages/sklearn/metrics/_classification.py:2916: UserWarning: The y_pred values do not sum to one. Starting from 1.5 thiswill result in an error.\n",
      "  warnings.warn(\n"
     ]
    },
    {
     "name": "stdout",
     "output_type": "stream",
     "text": [
      "400:\tlearn: 0.0248174\ttotal: 13s\tremaining: 3.21s\n",
      "300:\tlearn: 0.1258089\ttotal: 10.7s\tremaining: 15.9s\n",
      "100:\tlearn: 0.2187358\ttotal: 3.29s\tremaining: 21.2s\n",
      "400:\tlearn: 0.0288115\ttotal: 13.3s\tremaining: 3.29s\n",
      "400:\tlearn: 0.1114720\ttotal: 13.2s\tremaining: 11.5s\n",
      "200:\tlearn: 0.1612853\ttotal: 6.25s\tremaining: 17.1s\n",
      "499:\tlearn: 0.0230538\ttotal: 17s\tremaining: 0us\n",
      "[CV] END depth=6, iterations=500, l2_leaf_reg=3, learning_rate=0.1; total time=  17.1s\n",
      "100:\tlearn: 0.2133265\ttotal: 3.53s\tremaining: 22.7s\n",
      "0:\tlearn: 0.6381796\ttotal: 33ms\tremaining: 24.7s\n"
     ]
    },
    {
     "name": "stderr",
     "output_type": "stream",
     "text": [
      "/Users/a/.pyenv/versions/3.10.0/lib/python3.10/site-packages/sklearn/metrics/_classification.py:2916: UserWarning: The y_pred values do not sum to one. Starting from 1.5 thiswill result in an error.\n",
      "  warnings.warn(\n"
     ]
    },
    {
     "name": "stdout",
     "output_type": "stream",
     "text": [
      "499:\tlearn: 0.0195667\ttotal: 16.3s\tremaining: 0us\n",
      "400:\tlearn: 0.1110874\ttotal: 14s\tremaining: 12.2s\n",
      "[CV] END depth=6, iterations=500, l2_leaf_reg=3, learning_rate=0.1; total time=  16.4s\n",
      "0:\tlearn: 0.6264440\ttotal: 30.2ms\tremaining: 22.6s\n"
     ]
    },
    {
     "name": "stderr",
     "output_type": "stream",
     "text": [
      "/Users/a/.pyenv/versions/3.10.0/lib/python3.10/site-packages/sklearn/metrics/_classification.py:2916: UserWarning: The y_pred values do not sum to one. Starting from 1.5 thiswill result in an error.\n",
      "  warnings.warn(\n"
     ]
    },
    {
     "name": "stdout",
     "output_type": "stream",
     "text": [
      "200:\tlearn: 0.1547932\ttotal: 6.63s\tremaining: 18.1s\n",
      "499:\tlearn: 0.0225795\ttotal: 16.7s\tremaining: 0us\n",
      "[CV] END depth=6, iterations=500, l2_leaf_reg=3, learning_rate=0.1; total time=  16.8s\n"
     ]
    },
    {
     "name": "stderr",
     "output_type": "stream",
     "text": [
      "/Users/a/.pyenv/versions/3.10.0/lib/python3.10/site-packages/sklearn/metrics/_classification.py:2916: UserWarning: The y_pred values do not sum to one. Starting from 1.5 thiswill result in an error.\n",
      "  warnings.warn(\n"
     ]
    },
    {
     "name": "stdout",
     "output_type": "stream",
     "text": [
      "0:\tlearn: 0.6311142\ttotal: 43.7ms\tremaining: 32.7s\n",
      "500:\tlearn: 0.1024619\ttotal: 16.7s\tremaining: 8.31s\n",
      "300:\tlearn: 0.1374779\ttotal: 9.51s\tremaining: 14.2s\n",
      "100:\tlearn: 0.1032108\ttotal: 3.74s\tremaining: 24s\n",
      "200:\tlearn: 0.1496878\ttotal: 7.36s\tremaining: 20.1s\n",
      "100:\tlearn: 0.1009658\ttotal: 3.58s\tremaining: 23s\n",
      "500:\tlearn: 0.1006447\ttotal: 17.7s\tremaining: 8.78s\n",
      "300:\tlearn: 0.1306051\ttotal: 10.4s\tremaining: 15.6s\n",
      "600:\tlearn: 0.0951178\ttotal: 20.5s\tremaining: 5.08s\n",
      "100:\tlearn: 0.1094061\ttotal: 4.04s\tremaining: 26s\n",
      "400:\tlearn: 0.1230609\ttotal: 13.3s\tremaining: 11.6s\n",
      "200:\tlearn: 0.0698235\ttotal: 7.23s\tremaining: 19.7s\n",
      "300:\tlearn: 0.1240863\ttotal: 10.9s\tremaining: 16.3s\n",
      "200:\tlearn: 0.0662785\ttotal: 7.08s\tremaining: 19.3s\n",
      "600:\tlearn: 0.0928100\ttotal: 21.4s\tremaining: 5.3s\n",
      "400:\tlearn: 0.1158387\ttotal: 13.9s\tremaining: 12.1s\n",
      "700:\tlearn: 0.0885937\ttotal: 24.1s\tremaining: 1.68s\n",
      "200:\tlearn: 0.0740773\ttotal: 7.68s\tremaining: 21s\n",
      "500:\tlearn: 0.1117342\ttotal: 16.9s\tremaining: 8.41s\n",
      "749:\tlearn: 0.0854812\ttotal: 25.9s\tremaining: 0us\n",
      "[CV] END depth=6, iterations=750, l2_leaf_reg=1, learning_rate=0.01; total time=  26.1s\n",
      "0:\tlearn: 0.6285703\ttotal: 49.6ms\tremaining: 37.2s\n"
     ]
    },
    {
     "name": "stderr",
     "output_type": "stream",
     "text": [
      "/Users/a/.pyenv/versions/3.10.0/lib/python3.10/site-packages/sklearn/metrics/_classification.py:2916: UserWarning: The y_pred values do not sum to one. Starting from 1.5 thiswill result in an error.\n",
      "  warnings.warn(\n"
     ]
    },
    {
     "name": "stdout",
     "output_type": "stream",
     "text": [
      "300:\tlearn: 0.0482462\ttotal: 11s\tremaining: 16.4s\n",
      "400:\tlearn: 0.1101510\ttotal: 14.5s\tremaining: 12.7s\n",
      "300:\tlearn: 0.0470944\ttotal: 11s\tremaining: 16.4s\n",
      "500:\tlearn: 0.1056841\ttotal: 17.7s\tremaining: 8.78s\n",
      "700:\tlearn: 0.0859288\ttotal: 25.2s\tremaining: 1.76s\n",
      "300:\tlearn: 0.0525706\ttotal: 11.2s\tremaining: 16.7s\n",
      "600:\tlearn: 0.1033402\ttotal: 20.8s\tremaining: 5.16s\n",
      "749:\tlearn: 0.0829125\ttotal: 27s\tremaining: 0us\n",
      "[CV] END depth=6, iterations=750, l2_leaf_reg=1, learning_rate=0.01; total time=  27.2s\n",
      "0:\tlearn: 0.6213555\ttotal: 47.5ms\tremaining: 35.5s\n"
     ]
    },
    {
     "name": "stderr",
     "output_type": "stream",
     "text": [
      "/Users/a/.pyenv/versions/3.10.0/lib/python3.10/site-packages/sklearn/metrics/_classification.py:2916: UserWarning: The y_pred values do not sum to one. Starting from 1.5 thiswill result in an error.\n",
      "  warnings.warn(\n"
     ]
    },
    {
     "name": "stdout",
     "output_type": "stream",
     "text": [
      "100:\tlearn: 0.1046023\ttotal: 3.78s\tremaining: 24.3s\n",
      "500:\tlearn: 0.1002047\ttotal: 18.2s\tremaining: 9.05s\n",
      "400:\tlearn: 0.0347030\ttotal: 14.9s\tremaining: 13s\n",
      "400:\tlearn: 0.0341265\ttotal: 14.6s\tremaining: 12.7s\n",
      "600:\tlearn: 0.0974432\ttotal: 21.3s\tremaining: 5.28s\n",
      "400:\tlearn: 0.0382321\ttotal: 14.9s\tremaining: 13s\n",
      "700:\tlearn: 0.0963248\ttotal: 24.5s\tremaining: 1.71s\n",
      "100:\tlearn: 0.0999462\ttotal: 3.69s\tremaining: 23.7s\n",
      "200:\tlearn: 0.0716434\ttotal: 7.16s\tremaining: 19.5s\n",
      "749:\tlearn: 0.0930193\ttotal: 26.1s\tremaining: 0us\n",
      "[CV] END depth=6, iterations=750, l2_leaf_reg=1, learning_rate=0.01; total time=  26.2s\n",
      "0:\tlearn: 0.5897889\ttotal: 65.3ms\tremaining: 48.9s\n"
     ]
    },
    {
     "name": "stderr",
     "output_type": "stream",
     "text": [
      "/Users/a/.pyenv/versions/3.10.0/lib/python3.10/site-packages/sklearn/metrics/_classification.py:2916: UserWarning: The y_pred values do not sum to one. Starting from 1.5 thiswill result in an error.\n",
      "  warnings.warn(\n"
     ]
    },
    {
     "name": "stdout",
     "output_type": "stream",
     "text": [
      "600:\tlearn: 0.0920726\ttotal: 22s\tremaining: 5.46s\n",
      "500:\tlearn: 0.0255622\ttotal: 18s\tremaining: 8.95s\n",
      "500:\tlearn: 0.0257252\ttotal: 18.6s\tremaining: 9.25s\n",
      "700:\tlearn: 0.0899084\ttotal: 24.7s\tremaining: 1.73s\n",
      "500:\tlearn: 0.0289262\ttotal: 18.4s\tremaining: 9.13s\n",
      "749:\tlearn: 0.0868758\ttotal: 26.2s\tremaining: 0us\n",
      "[CV] END depth=6, iterations=750, l2_leaf_reg=1, learning_rate=0.01; total time=  26.4s\n",
      "0:\tlearn: 0.5672670\ttotal: 34.3ms\tremaining: 25.7s\n"
     ]
    },
    {
     "name": "stderr",
     "output_type": "stream",
     "text": [
      "/Users/a/.pyenv/versions/3.10.0/lib/python3.10/site-packages/sklearn/metrics/_classification.py:2916: UserWarning: The y_pred values do not sum to one. Starting from 1.5 thiswill result in an error.\n",
      "  warnings.warn(\n"
     ]
    },
    {
     "name": "stdout",
     "output_type": "stream",
     "text": [
      "200:\tlearn: 0.0649559\ttotal: 7.07s\tremaining: 19.3s\n",
      "300:\tlearn: 0.0503963\ttotal: 10.6s\tremaining: 15.8s\n",
      "100:\tlearn: 0.0692525\ttotal: 3.42s\tremaining: 22s\n",
      "600:\tlearn: 0.0198639\ttotal: 21.1s\tremaining: 5.23s\n",
      "700:\tlearn: 0.0848731\ttotal: 25.2s\tremaining: 1.76s\n",
      "600:\tlearn: 0.0198891\ttotal: 21.9s\tremaining: 5.42s\n",
      "600:\tlearn: 0.0226438\ttotal: 21.5s\tremaining: 5.33s\n",
      "749:\tlearn: 0.0817333\ttotal: 26.8s\tremaining: 0us\n",
      "[CV] END depth=6, iterations=750, l2_leaf_reg=1, learning_rate=0.01; total time=  27.0s\n",
      "100:\tlearn: 0.0681121\ttotal: 3.16s\tremaining: 20.3s\n",
      "0:\tlearn: 0.5762877\ttotal: 113ms\tremaining: 1m 24s\n"
     ]
    },
    {
     "name": "stderr",
     "output_type": "stream",
     "text": [
      "/Users/a/.pyenv/versions/3.10.0/lib/python3.10/site-packages/sklearn/metrics/_classification.py:2916: UserWarning: The y_pred values do not sum to one. Starting from 1.5 thiswill result in an error.\n",
      "  warnings.warn(\n"
     ]
    },
    {
     "name": "stdout",
     "output_type": "stream",
     "text": [
      "300:\tlearn: 0.0442070\ttotal: 10.3s\tremaining: 15.4s\n",
      "400:\tlearn: 0.0372736\ttotal: 13.8s\tremaining: 12s\n",
      "200:\tlearn: 0.0345362\ttotal: 6.66s\tremaining: 18.2s\n",
      "700:\tlearn: 0.0158748\ttotal: 24.4s\tremaining: 1.71s\n",
      "700:\tlearn: 0.0157818\ttotal: 25.4s\tremaining: 1.77s\n",
      "700:\tlearn: 0.0182174\ttotal: 25s\tremaining: 1.75s\n",
      "749:\tlearn: 0.0143954\ttotal: 26.2s\tremaining: 0us\n",
      "[CV] END depth=6, iterations=750, l2_leaf_reg=1, learning_rate=0.05; total time=  26.4s\n",
      "0:\tlearn: 0.5715293\ttotal: 36.8ms\tremaining: 27.6s\n",
      "749:\tlearn: 0.0142244\ttotal: 27s\tremaining: 0us\n",
      "[CV] END depth=6, iterations=750, l2_leaf_reg=1, learning_rate=0.05; total time=  27.1s\n",
      "100:\tlearn: 0.0739623\ttotal: 3.54s\tremaining: 22.8s\n",
      "200:\tlearn: 0.0347133\ttotal: 6.61s\tremaining: 18.1s\n",
      "0:\tlearn: 0.5577193\ttotal: 23.7ms\tremaining: 17.8s\n"
     ]
    },
    {
     "name": "stderr",
     "output_type": "stream",
     "text": [
      "/Users/a/.pyenv/versions/3.10.0/lib/python3.10/site-packages/sklearn/metrics/_classification.py:2916: UserWarning: The y_pred values do not sum to one. Starting from 1.5 thiswill result in an error.\n",
      "  warnings.warn(\n",
      "/Users/a/.pyenv/versions/3.10.0/lib/python3.10/site-packages/sklearn/metrics/_classification.py:2916: UserWarning: The y_pred values do not sum to one. Starting from 1.5 thiswill result in an error.\n",
      "  warnings.warn(\n"
     ]
    },
    {
     "name": "stdout",
     "output_type": "stream",
     "text": [
      "400:\tlearn: 0.0316741\ttotal: 13.7s\tremaining: 11.9s\n",
      "500:\tlearn: 0.0283188\ttotal: 17.1s\tremaining: 8.49s\n",
      "749:\tlearn: 0.0165459\ttotal: 26.6s\tremaining: 0us\n",
      "[CV] END depth=6, iterations=750, l2_leaf_reg=1, learning_rate=0.05; total time=  26.7s\n"
     ]
    },
    {
     "name": "stderr",
     "output_type": "stream",
     "text": [
      "/Users/a/.pyenv/versions/3.10.0/lib/python3.10/site-packages/sklearn/metrics/_classification.py:2916: UserWarning: The y_pred values do not sum to one. Starting from 1.5 thiswill result in an error.\n",
      "  warnings.warn(\n"
     ]
    },
    {
     "name": "stdout",
     "output_type": "stream",
     "text": [
      "0:\tlearn: 0.6819263\ttotal: 64.2ms\tremaining: 48.1s\n",
      "300:\tlearn: 0.0197183\ttotal: 10s\tremaining: 15s\n",
      "300:\tlearn: 0.0202185\ttotal: 9.38s\tremaining: 14s\n",
      "100:\tlearn: 0.0706887\ttotal: 2.96s\tremaining: 19s\n",
      "200:\tlearn: 0.0387164\ttotal: 6.51s\tremaining: 17.8s\n",
      "100:\tlearn: 0.0656360\ttotal: 3.24s\tremaining: 20.8s\n",
      "100:\tlearn: 0.2182916\ttotal: 2.75s\tremaining: 17.7s\n",
      "500:\tlearn: 0.0234460\ttotal: 16.8s\tremaining: 8.36s\n",
      "600:\tlearn: 0.0221559\ttotal: 20.2s\tremaining: 5.01s\n",
      "400:\tlearn: 0.0129025\ttotal: 13.1s\tremaining: 11.4s\n",
      "400:\tlearn: 0.0130847\ttotal: 12.3s\tremaining: 10.7s\n",
      "300:\tlearn: 0.0228776\ttotal: 9.43s\tremaining: 14.1s\n",
      "200:\tlearn: 0.0366512\ttotal: 6.06s\tremaining: 16.6s\n",
      "200:\tlearn: 0.0308157\ttotal: 6.17s\tremaining: 16.9s\n",
      "200:\tlearn: 0.1560333\ttotal: 5.73s\tremaining: 15.6s\n",
      "700:\tlearn: 0.0179849\ttotal: 23.1s\tremaining: 1.61s\n",
      "600:\tlearn: 0.0180523\ttotal: 19.9s\tremaining: 4.92s\n",
      "500:\tlearn: 0.0092471\ttotal: 16.1s\tremaining: 8.01s\n",
      "749:\tlearn: 0.0162851\ttotal: 24.6s\tremaining: 0us\n",
      "[CV] END depth=6, iterations=750, l2_leaf_reg=1, learning_rate=0.05; total time=  24.8s\n",
      "0:\tlearn: 0.6797309\ttotal: 27.6ms\tremaining: 20.7s\n"
     ]
    },
    {
     "name": "stderr",
     "output_type": "stream",
     "text": [
      "/Users/a/.pyenv/versions/3.10.0/lib/python3.10/site-packages/sklearn/metrics/_classification.py:2916: UserWarning: The y_pred values do not sum to one. Starting from 1.5 thiswill result in an error.\n",
      "  warnings.warn(\n"
     ]
    },
    {
     "name": "stdout",
     "output_type": "stream",
     "text": [
      "400:\tlearn: 0.0151254\ttotal: 12.4s\tremaining: 10.8s\n",
      "500:\tlearn: 0.0093557\ttotal: 15.6s\tremaining: 7.73s\n",
      "300:\tlearn: 0.0220854\ttotal: 9.22s\tremaining: 13.8s\n",
      "300:\tlearn: 0.1340039\ttotal: 8.83s\tremaining: 13.2s\n",
      "300:\tlearn: 0.0173905\ttotal: 9.68s\tremaining: 14.4s\n",
      "700:\tlearn: 0.0144521\ttotal: 23.3s\tremaining: 1.63s\n",
      "600:\tlearn: 0.0068139\ttotal: 19.4s\tremaining: 4.81s\n",
      "100:\tlearn: 0.2208287\ttotal: 3.09s\tremaining: 19.8s\n",
      "749:\tlearn: 0.0130515\ttotal: 24.7s\tremaining: 0us\n",
      "[CV] END depth=6, iterations=750, l2_leaf_reg=1, learning_rate=0.05; total time=  24.9s\n",
      "0:\tlearn: 0.6806446\ttotal: 15ms\tremaining: 11.2s\n"
     ]
    },
    {
     "name": "stderr",
     "output_type": "stream",
     "text": [
      "/Users/a/.pyenv/versions/3.10.0/lib/python3.10/site-packages/sklearn/metrics/_classification.py:2916: UserWarning: The y_pred values do not sum to one. Starting from 1.5 thiswill result in an error.\n",
      "  warnings.warn(\n"
     ]
    },
    {
     "name": "stdout",
     "output_type": "stream",
     "text": [
      "400:\tlearn: 0.1200534\ttotal: 11.4s\tremaining: 9.91s\n",
      "500:\tlearn: 0.0110315\ttotal: 15.8s\tremaining: 7.86s\n",
      "600:\tlearn: 0.0070202\ttotal: 18.9s\tremaining: 4.68s\n",
      "400:\tlearn: 0.0142024\ttotal: 12.5s\tremaining: 10.9s\n",
      "400:\tlearn: 0.0113387\ttotal: 13s\tremaining: 11.3s\n",
      "100:\tlearn: 0.2297704\ttotal: 2.26s\tremaining: 14.5s\n",
      "700:\tlearn: 0.0053403\ttotal: 22.7s\tremaining: 1.59s\n",
      "200:\tlearn: 0.1561074\ttotal: 6.3s\tremaining: 17.2s\n",
      "500:\tlearn: 0.1118892\ttotal: 14.5s\tremaining: 7.19s\n",
      "700:\tlearn: 0.0054768\ttotal: 21.8s\tremaining: 1.52s\n",
      "749:\tlearn: 0.0047916\ttotal: 24.2s\tremaining: 0us\n",
      "[CV] END depth=6, iterations=750, l2_leaf_reg=1, learning_rate=0.1; total time=  24.4s\n",
      "0:\tlearn: 0.6803550\ttotal: 21.9ms\tremaining: 16.4s\n"
     ]
    },
    {
     "name": "stderr",
     "output_type": "stream",
     "text": [
      "/Users/a/.pyenv/versions/3.10.0/lib/python3.10/site-packages/sklearn/metrics/_classification.py:2916: UserWarning: The y_pred values do not sum to one. Starting from 1.5 thiswill result in an error.\n",
      "  warnings.warn(\n"
     ]
    },
    {
     "name": "stdout",
     "output_type": "stream",
     "text": [
      "500:\tlearn: 0.0101590\ttotal: 15.7s\tremaining: 7.79s\n",
      "600:\tlearn: 0.0084030\ttotal: 19.2s\tremaining: 4.76s\n",
      "500:\tlearn: 0.0081118\ttotal: 16.1s\tremaining: 7.99s\n",
      "749:\tlearn: 0.0049744\ttotal: 23.3s\tremaining: 0us\n",
      "[CV] END depth=6, iterations=750, l2_leaf_reg=1, learning_rate=0.1; total time=  23.5s\n",
      "200:\tlearn: 0.1675364\ttotal: 5.44s\tremaining: 14.9s\n",
      "0:\tlearn: 0.6788818\ttotal: 56.6ms\tremaining: 42.4s\n"
     ]
    },
    {
     "name": "stderr",
     "output_type": "stream",
     "text": [
      "/Users/a/.pyenv/versions/3.10.0/lib/python3.10/site-packages/sklearn/metrics/_classification.py:2916: UserWarning: The y_pred values do not sum to one. Starting from 1.5 thiswill result in an error.\n",
      "  warnings.warn(\n"
     ]
    },
    {
     "name": "stdout",
     "output_type": "stream",
     "text": [
      "300:\tlearn: 0.1329297\ttotal: 9.51s\tremaining: 14.2s\n",
      "600:\tlearn: 0.1057763\ttotal: 17.5s\tremaining: 4.33s\n",
      "100:\tlearn: 0.2256828\ttotal: 3.31s\tremaining: 21.3s\n",
      "600:\tlearn: 0.0077867\ttotal: 18.8s\tremaining: 4.67s\n",
      "700:\tlearn: 0.0066196\ttotal: 22.3s\tremaining: 1.56s\n",
      "600:\tlearn: 0.0061409\ttotal: 19.4s\tremaining: 4.81s\n",
      "100:\tlearn: 0.2201637\ttotal: 3.22s\tremaining: 20.7s\n",
      "300:\tlearn: 0.1447010\ttotal: 8.66s\tremaining: 12.9s\n",
      "749:\tlearn: 0.0059892\ttotal: 23.7s\tremaining: 0us\n",
      "[CV] END depth=6, iterations=750, l2_leaf_reg=1, learning_rate=0.1; total time=  23.9s\n"
     ]
    },
    {
     "name": "stderr",
     "output_type": "stream",
     "text": [
      "/Users/a/.pyenv/versions/3.10.0/lib/python3.10/site-packages/sklearn/metrics/_classification.py:2916: UserWarning: The y_pred values do not sum to one. Starting from 1.5 thiswill result in an error.\n",
      "  warnings.warn(\n"
     ]
    },
    {
     "name": "stdout",
     "output_type": "stream",
     "text": [
      "0:\tlearn: 0.6395611\ttotal: 34.8ms\tremaining: 26.1s\n",
      "400:\tlearn: 0.1190791\ttotal: 12.8s\tremaining: 11.1s\n",
      "700:\tlearn: 0.1007484\ttotal: 20.5s\tremaining: 1.43s\n",
      "200:\tlearn: 0.1615978\ttotal: 6.54s\tremaining: 17.9s\n",
      "700:\tlearn: 0.0061504\ttotal: 22s\tremaining: 1.53s\n",
      "749:\tlearn: 0.0977832\ttotal: 22.2s\tremaining: 0us\n",
      "[CV] END depth=6, iterations=750, l2_leaf_reg=3, learning_rate=0.01; total time=  22.4s\n",
      "0:\tlearn: 0.6288443\ttotal: 37.5ms\tremaining: 28.1s\n",
      "700:\tlearn: 0.0048251\ttotal: 22.9s\tremaining: 1.6s\n"
     ]
    },
    {
     "name": "stderr",
     "output_type": "stream",
     "text": [
      "/Users/a/.pyenv/versions/3.10.0/lib/python3.10/site-packages/sklearn/metrics/_classification.py:2916: UserWarning: The y_pred values do not sum to one. Starting from 1.5 thiswill result in an error.\n",
      "  warnings.warn(\n"
     ]
    },
    {
     "name": "stdout",
     "output_type": "stream",
     "text": [
      "400:\tlearn: 0.1310795\ttotal: 11.9s\tremaining: 10.4s\n",
      "200:\tlearn: 0.1567862\ttotal: 6.57s\tremaining: 17.9s\n",
      "100:\tlearn: 0.1115815\ttotal: 3.23s\tremaining: 20.8s\n",
      "749:\tlearn: 0.0055139\ttotal: 23.6s\tremaining: 0us\n",
      "[CV] END depth=6, iterations=750, l2_leaf_reg=1, learning_rate=0.1; total time=  23.7s\n"
     ]
    },
    {
     "name": "stderr",
     "output_type": "stream",
     "text": [
      "/Users/a/.pyenv/versions/3.10.0/lib/python3.10/site-packages/sklearn/metrics/_classification.py:2916: UserWarning: The y_pred values do not sum to one. Starting from 1.5 thiswill result in an error.\n",
      "  warnings.warn(\n"
     ]
    },
    {
     "name": "stdout",
     "output_type": "stream",
     "text": [
      "0:\tlearn: 0.6332995\ttotal: 26.9ms\tremaining: 20.1s\n",
      "500:\tlearn: 0.1099252\ttotal: 15.9s\tremaining: 7.88s\n",
      "749:\tlearn: 0.0043488\ttotal: 24.6s\tremaining: 0us\n",
      "[CV] END depth=6, iterations=750, l2_leaf_reg=1, learning_rate=0.1; total time=  24.8s\n",
      "0:\tlearn: 0.6318609\ttotal: 24.6ms\tremaining: 18.4s\n"
     ]
    },
    {
     "name": "stderr",
     "output_type": "stream",
     "text": [
      "/Users/a/.pyenv/versions/3.10.0/lib/python3.10/site-packages/sklearn/metrics/_classification.py:2916: UserWarning: The y_pred values do not sum to one. Starting from 1.5 thiswill result in an error.\n",
      "  warnings.warn(\n"
     ]
    },
    {
     "name": "stdout",
     "output_type": "stream",
     "text": [
      "300:\tlearn: 0.1378253\ttotal: 10s\tremaining: 15s\n",
      "100:\tlearn: 0.1106145\ttotal: 3.27s\tremaining: 21s\n",
      "500:\tlearn: 0.1207468\ttotal: 15s\tremaining: 7.47s\n",
      "300:\tlearn: 0.1321045\ttotal: 9.68s\tremaining: 14.4s\n",
      "200:\tlearn: 0.0844386\ttotal: 6.6s\tremaining: 18s\n",
      "100:\tlearn: 0.1184815\ttotal: 3.37s\tremaining: 21.7s\n",
      "600:\tlearn: 0.1034386\ttotal: 19s\tremaining: 4.72s\n",
      "100:\tlearn: 0.1145504\ttotal: 3.14s\tremaining: 20.2s\n",
      "400:\tlearn: 0.1236341\ttotal: 13.1s\tremaining: 11.4s\n",
      "200:\tlearn: 0.0805633\ttotal: 6.62s\tremaining: 18.1s\n",
      "600:\tlearn: 0.1130133\ttotal: 18.4s\tremaining: 4.57s\n",
      "400:\tlearn: 0.1184844\ttotal: 13.1s\tremaining: 11.4s\n",
      "300:\tlearn: 0.0657742\ttotal: 9.84s\tremaining: 14.7s\n",
      "200:\tlearn: 0.0881000\ttotal: 6.63s\tremaining: 18.1s\n",
      "700:\tlearn: 0.0978317\ttotal: 22.4s\tremaining: 1.56s\n",
      "200:\tlearn: 0.0876391\ttotal: 6.29s\tremaining: 17.2s\n",
      "500:\tlearn: 0.1140813\ttotal: 16.2s\tremaining: 8.05s\n",
      "749:\tlearn: 0.0949970\ttotal: 24s\tremaining: 0us\n",
      "[CV] END depth=6, iterations=750, l2_leaf_reg=3, learning_rate=0.01; total time=  24.2s\n",
      "0:\tlearn: 0.6247567\ttotal: 27.5ms\tremaining: 20.6s\n"
     ]
    },
    {
     "name": "stderr",
     "output_type": "stream",
     "text": [
      "/Users/a/.pyenv/versions/3.10.0/lib/python3.10/site-packages/sklearn/metrics/_classification.py:2916: UserWarning: The y_pred values do not sum to one. Starting from 1.5 thiswill result in an error.\n",
      "  warnings.warn(\n"
     ]
    },
    {
     "name": "stdout",
     "output_type": "stream",
     "text": [
      "700:\tlearn: 0.1068160\ttotal: 21.4s\tremaining: 1.49s\n",
      "300:\tlearn: 0.0691996\ttotal: 9.51s\tremaining: 14.2s\n",
      "400:\tlearn: 0.0547160\ttotal: 12.8s\tremaining: 11.1s\n",
      "300:\tlearn: 0.0633844\ttotal: 10.2s\tremaining: 15.3s\n",
      "500:\tlearn: 0.1092737\ttotal: 16.6s\tremaining: 8.23s\n",
      "300:\tlearn: 0.0687094\ttotal: 9.56s\tremaining: 14.3s\n",
      "600:\tlearn: 0.1070409\ttotal: 19.3s\tremaining: 4.78s\n",
      "749:\tlearn: 0.1042429\ttotal: 23.2s\tremaining: 0us\n",
      "[CV] END depth=6, iterations=750, l2_leaf_reg=3, learning_rate=0.01; total time=  23.3s\n",
      "0:\tlearn: 0.5921725\ttotal: 19.6ms\tremaining: 14.7s\n"
     ]
    },
    {
     "name": "stderr",
     "output_type": "stream",
     "text": [
      "/Users/a/.pyenv/versions/3.10.0/lib/python3.10/site-packages/sklearn/metrics/_classification.py:2916: UserWarning: The y_pred values do not sum to one. Starting from 1.5 thiswill result in an error.\n",
      "  warnings.warn(\n"
     ]
    },
    {
     "name": "stdout",
     "output_type": "stream",
     "text": [
      "100:\tlearn: 0.1086390\ttotal: 3.26s\tremaining: 20.9s\n",
      "400:\tlearn: 0.0564346\ttotal: 12.7s\tremaining: 11s\n",
      "500:\tlearn: 0.0448817\ttotal: 16.1s\tremaining: 8s\n",
      "400:\tlearn: 0.0512543\ttotal: 13.6s\tremaining: 11.9s\n",
      "600:\tlearn: 0.1023719\ttotal: 20.1s\tremaining: 4.98s\n",
      "400:\tlearn: 0.0563354\ttotal: 12.7s\tremaining: 11.1s\n",
      "700:\tlearn: 0.1013651\ttotal: 22.6s\tremaining: 1.58s\n",
      "100:\tlearn: 0.0831966\ttotal: 3.64s\tremaining: 23.4s\n",
      "200:\tlearn: 0.0790848\ttotal: 6.53s\tremaining: 17.8s\n",
      "500:\tlearn: 0.0423099\ttotal: 16.7s\tremaining: 8.32s\n",
      "500:\tlearn: 0.0480081\ttotal: 16.1s\tremaining: 7.99s\n",
      "749:\tlearn: 0.0989064\ttotal: 24.3s\tremaining: 0us\n",
      "[CV] END depth=6, iterations=750, l2_leaf_reg=3, learning_rate=0.01; total time=  24.5s\n",
      "600:\tlearn: 0.0371549\ttotal: 19.5s\tremaining: 4.82s\n",
      "0:\tlearn: 0.5714047\ttotal: 72.8ms\tremaining: 54.5s\n"
     ]
    },
    {
     "name": "stderr",
     "output_type": "stream",
     "text": [
      "/Users/a/.pyenv/versions/3.10.0/lib/python3.10/site-packages/sklearn/metrics/_classification.py:2916: UserWarning: The y_pred values do not sum to one. Starting from 1.5 thiswill result in an error.\n",
      "  warnings.warn(\n"
     ]
    },
    {
     "name": "stdout",
     "output_type": "stream",
     "text": [
      "700:\tlearn: 0.0967793\ttotal: 23.7s\tremaining: 1.65s\n",
      "500:\tlearn: 0.0466011\ttotal: 16s\tremaining: 7.93s\n",
      "200:\tlearn: 0.0525243\ttotal: 7.21s\tremaining: 19.7s\n",
      "749:\tlearn: 0.0942149\ttotal: 25.4s\tremaining: 0us\n",
      "[CV] END depth=6, iterations=750, l2_leaf_reg=3, learning_rate=0.01; total time=  25.6s\n",
      "0:\tlearn: 0.5800245\ttotal: 27.1ms\tremaining: 20.3s\n"
     ]
    },
    {
     "name": "stderr",
     "output_type": "stream",
     "text": [
      "/Users/a/.pyenv/versions/3.10.0/lib/python3.10/site-packages/sklearn/metrics/_classification.py:2916: UserWarning: The y_pred values do not sum to one. Starting from 1.5 thiswill result in an error.\n",
      "  warnings.warn(\n"
     ]
    },
    {
     "name": "stdout",
     "output_type": "stream",
     "text": [
      "300:\tlearn: 0.0614504\ttotal: 10.5s\tremaining: 15.6s\n",
      "600:\tlearn: 0.0356369\ttotal: 20.3s\tremaining: 5.03s\n",
      "700:\tlearn: 0.0318063\ttotal: 22.9s\tremaining: 1.6s\n",
      "600:\tlearn: 0.0406926\ttotal: 19.7s\tremaining: 4.88s\n",
      "100:\tlearn: 0.0826179\ttotal: 3.74s\tremaining: 24s\n",
      "600:\tlearn: 0.0395361\ttotal: 19.3s\tremaining: 4.78s\n",
      "749:\tlearn: 0.0295385\ttotal: 24.6s\tremaining: 0us\n",
      "[CV] END depth=6, iterations=750, l2_leaf_reg=3, learning_rate=0.05; total time=  24.8s\n",
      "0:\tlearn: 0.5771790\ttotal: 37.2ms\tremaining: 27.9s\n"
     ]
    },
    {
     "name": "stderr",
     "output_type": "stream",
     "text": [
      "/Users/a/.pyenv/versions/3.10.0/lib/python3.10/site-packages/sklearn/metrics/_classification.py:2916: UserWarning: The y_pred values do not sum to one. Starting from 1.5 thiswill result in an error.\n",
      "  warnings.warn(\n"
     ]
    },
    {
     "name": "stdout",
     "output_type": "stream",
     "text": [
      "300:\tlearn: 0.0358912\ttotal: 10.9s\tremaining: 16.2s\n",
      "100:\tlearn: 0.0900388\ttotal: 3.24s\tremaining: 20.8s\n",
      "400:\tlearn: 0.0499339\ttotal: 13.8s\tremaining: 12s\n",
      "700:\tlearn: 0.0300514\ttotal: 23.5s\tremaining: 1.65s\n",
      "200:\tlearn: 0.0511646\ttotal: 7s\tremaining: 19.1s\n",
      "700:\tlearn: 0.0352012\ttotal: 23.3s\tremaining: 1.63s\n",
      "700:\tlearn: 0.0345673\ttotal: 22.9s\tremaining: 1.6s\n",
      "749:\tlearn: 0.0281067\ttotal: 25.4s\tremaining: 0us\n",
      "[CV] END depth=6, iterations=750, l2_leaf_reg=3, learning_rate=0.05; total time=  25.6s\n",
      "0:\tlearn: 0.5636198\ttotal: 29ms\tremaining: 21.7s\n"
     ]
    },
    {
     "name": "stderr",
     "output_type": "stream",
     "text": [
      "/Users/a/.pyenv/versions/3.10.0/lib/python3.10/site-packages/sklearn/metrics/_classification.py:2916: UserWarning: The y_pred values do not sum to one. Starting from 1.5 thiswill result in an error.\n",
      "  warnings.warn(\n"
     ]
    },
    {
     "name": "stdout",
     "output_type": "stream",
     "text": [
      "100:\tlearn: 0.0858911\ttotal: 3.78s\tremaining: 24.3s\n",
      "749:\tlearn: 0.0329214\ttotal: 25.2s\tremaining: 0us\n",
      "[CV] END depth=6, iterations=750, l2_leaf_reg=3, learning_rate=0.05; total time=  25.4s\n"
     ]
    },
    {
     "name": "stderr",
     "output_type": "stream",
     "text": [
      "/Users/a/.pyenv/versions/3.10.0/lib/python3.10/site-packages/sklearn/metrics/_classification.py:2916: UserWarning: The y_pred values do not sum to one. Starting from 1.5 thiswill result in an error.\n",
      "  warnings.warn(\n"
     ]
    },
    {
     "name": "stdout",
     "output_type": "stream",
     "text": [
      "400:\tlearn: 0.0266723\ttotal: 14.5s\tremaining: 12.7s\n",
      "749:\tlearn: 0.0318703\ttotal: 24.6s\tremaining: 0us\n",
      "200:\tlearn: 0.0558912\ttotal: 6.97s\tremaining: 19s\n",
      "[CV] END depth=6, iterations=750, l2_leaf_reg=3, learning_rate=0.05; total time=  24.7s\n"
     ]
    },
    {
     "name": "stderr",
     "output_type": "stream",
     "text": [
      "/Users/a/.pyenv/versions/3.10.0/lib/python3.10/site-packages/sklearn/metrics/_classification.py:2916: UserWarning: The y_pred values do not sum to one. Starting from 1.5 thiswill result in an error.\n",
      "  warnings.warn(\n"
     ]
    },
    {
     "name": "stdout",
     "output_type": "stream",
     "text": [
      "500:\tlearn: 0.0409130\ttotal: 17.4s\tremaining: 8.65s\n",
      "300:\tlearn: 0.0352476\ttotal: 10.2s\tremaining: 15.2s\n",
      "100:\tlearn: 0.0795901\ttotal: 2.91s\tremaining: 18.7s\n",
      "200:\tlearn: 0.0547267\ttotal: 6.63s\tremaining: 18.1s\n",
      "500:\tlearn: 0.0205705\ttotal: 17.2s\tremaining: 8.55s\n",
      "300:\tlearn: 0.0399203\ttotal: 9.73s\tremaining: 14.5s\n",
      "600:\tlearn: 0.0342767\ttotal: 20s\tremaining: 4.97s\n",
      "400:\tlearn: 0.0259399\ttotal: 12.8s\tremaining: 11.1s\n",
      "300:\tlearn: 0.0381002\ttotal: 8.88s\tremaining: 13.3s\n",
      "200:\tlearn: 0.0475452\ttotal: 5.58s\tremaining: 15.2s\n",
      "600:\tlearn: 0.0164204\ttotal: 19.8s\tremaining: 4.91s\n",
      "700:\tlearn: 0.0293561\ttotal: 22.7s\tremaining: 1.58s\n",
      "400:\tlearn: 0.0295242\ttotal: 12.5s\tremaining: 10.9s\n",
      "500:\tlearn: 0.0199571\ttotal: 15.3s\tremaining: 7.62s\n",
      "749:\tlearn: 0.0270768\ttotal: 23.9s\tremaining: 0us\n",
      "[CV] END depth=6, iterations=750, l2_leaf_reg=3, learning_rate=0.05; total time=  24.0s\n",
      "400:\tlearn: 0.0288115\ttotal: 11.1s\tremaining: 9.65s\n"
     ]
    },
    {
     "name": "stderr",
     "output_type": "stream",
     "text": [
      "/Users/a/.pyenv/versions/3.10.0/lib/python3.10/site-packages/sklearn/metrics/_classification.py:2916: UserWarning: The y_pred values do not sum to one. Starting from 1.5 thiswill result in an error.\n",
      "  warnings.warn(\n"
     ]
    },
    {
     "name": "stdout",
     "output_type": "stream",
     "text": [
      "300:\tlearn: 0.0337971\ttotal: 8.04s\tremaining: 12s\n",
      "700:\tlearn: 0.0135498\ttotal: 22.1s\tremaining: 1.54s\n",
      "500:\tlearn: 0.0230089\ttotal: 14.9s\tremaining: 7.41s\n",
      "600:\tlearn: 0.0162031\ttotal: 17.6s\tremaining: 4.37s\n",
      "749:\tlearn: 0.0124689\ttotal: 23.2s\tremaining: 0us\n",
      "[CV] END depth=6, iterations=750, l2_leaf_reg=3, learning_rate=0.1; total time=  23.4s\n"
     ]
    },
    {
     "name": "stderr",
     "output_type": "stream",
     "text": [
      "/Users/a/.pyenv/versions/3.10.0/lib/python3.10/site-packages/sklearn/metrics/_classification.py:2916: UserWarning: The y_pred values do not sum to one. Starting from 1.5 thiswill result in an error.\n",
      "  warnings.warn(\n"
     ]
    },
    {
     "name": "stdout",
     "output_type": "stream",
     "text": [
      "500:\tlearn: 0.0224080\ttotal: 13.3s\tremaining: 6.59s\n",
      "400:\tlearn: 0.0248174\ttotal: 10.1s\tremaining: 8.79s\n",
      "600:\tlearn: 0.0185639\ttotal: 16.8s\tremaining: 4.17s\n",
      "700:\tlearn: 0.0134348\ttotal: 19.5s\tremaining: 1.36s\n",
      "600:\tlearn: 0.0183334\ttotal: 14.9s\tremaining: 3.69s\n",
      "749:\tlearn: 0.0123236\ttotal: 20.2s\tremaining: 0us\n",
      "[CV] END depth=6, iterations=750, l2_leaf_reg=3, learning_rate=0.1; total time=  20.3s\n",
      "500:\tlearn: 0.0195502\ttotal: 11.7s\tremaining: 5.82s\n"
     ]
    },
    {
     "name": "stderr",
     "output_type": "stream",
     "text": [
      "/Users/a/.pyenv/versions/3.10.0/lib/python3.10/site-packages/sklearn/metrics/_classification.py:2916: UserWarning: The y_pred values do not sum to one. Starting from 1.5 thiswill result in an error.\n",
      "  warnings.warn(\n"
     ]
    },
    {
     "name": "stdout",
     "output_type": "stream",
     "text": [
      "700:\tlearn: 0.0155917\ttotal: 18.2s\tremaining: 1.27s\n",
      "700:\tlearn: 0.0151836\ttotal: 16.2s\tremaining: 1.13s\n",
      "749:\tlearn: 0.0143218\ttotal: 18.9s\tremaining: 0us\n",
      "[CV] END depth=6, iterations=750, l2_leaf_reg=3, learning_rate=0.1; total time=  19.0s\n",
      "600:\tlearn: 0.0156123\ttotal: 12.9s\tremaining: 3.2s\n"
     ]
    },
    {
     "name": "stderr",
     "output_type": "stream",
     "text": [
      "/Users/a/.pyenv/versions/3.10.0/lib/python3.10/site-packages/sklearn/metrics/_classification.py:2916: UserWarning: The y_pred values do not sum to one. Starting from 1.5 thiswill result in an error.\n",
      "  warnings.warn(\n"
     ]
    },
    {
     "name": "stdout",
     "output_type": "stream",
     "text": [
      "749:\tlearn: 0.0138477\ttotal: 16.6s\tremaining: 0us\n",
      "[CV] END depth=6, iterations=750, l2_leaf_reg=3, learning_rate=0.1; total time=  16.7s\n"
     ]
    },
    {
     "name": "stderr",
     "output_type": "stream",
     "text": [
      "/Users/a/.pyenv/versions/3.10.0/lib/python3.10/site-packages/sklearn/metrics/_classification.py:2916: UserWarning: The y_pred values do not sum to one. Starting from 1.5 thiswill result in an error.\n",
      "  warnings.warn(\n"
     ]
    },
    {
     "name": "stdout",
     "output_type": "stream",
     "text": [
      "700:\tlearn: 0.0128617\ttotal: 13.6s\tremaining: 954ms\n",
      "749:\tlearn: 0.0118744\ttotal: 14s\tremaining: 0us\n",
      "[CV] END depth=6, iterations=750, l2_leaf_reg=3, learning_rate=0.1; total time=  14.1s\n",
      "0:\tlearn: 0.6336186\ttotal: 70ms\tremaining: 52.4s\n"
     ]
    },
    {
     "name": "stderr",
     "output_type": "stream",
     "text": [
      "/Users/a/.pyenv/versions/3.10.0/lib/python3.10/site-packages/sklearn/metrics/_classification.py:2916: UserWarning: The y_pred values do not sum to one. Starting from 1.5 thiswill result in an error.\n",
      "  warnings.warn(\n"
     ]
    },
    {
     "name": "stdout",
     "output_type": "stream",
     "text": [
      "100:\tlearn: 0.1129673\ttotal: 861ms\tremaining: 5.53s\n",
      "200:\tlearn: 0.0863395\ttotal: 1.62s\tremaining: 4.43s\n",
      "300:\tlearn: 0.0687136\ttotal: 2.37s\tremaining: 3.53s\n",
      "400:\tlearn: 0.0574324\ttotal: 3.1s\tremaining: 2.7s\n",
      "500:\tlearn: 0.0493893\ttotal: 3.83s\tremaining: 1.91s\n",
      "600:\tlearn: 0.0421118\ttotal: 4.59s\tremaining: 1.14s\n",
      "700:\tlearn: 0.0367149\ttotal: 5.33s\tremaining: 373ms\n",
      "749:\tlearn: 0.0343333\ttotal: 5.7s\tremaining: 0us\n",
      "Evaluating the performance of the model\n",
      "Logging figure to MLflow with name: learning_rate_depth_l2_leaf_reg_1_iterations_500.png\n",
      "Logging figure to MLflow with name: learning_rate_depth_l2_leaf_reg_1_iterations_750.png\n",
      "Logging figure to MLflow with name: learning_rate_depth_l2_leaf_reg_3_iterations_500.png\n",
      "Logging figure to MLflow with name: learning_rate_depth_l2_leaf_reg_3_iterations_750.png\n",
      "Logging the pipeline to MLflow\n",
      "{'depth': 6, 'iterations': 750, 'l2_leaf_reg': 3, 'learning_rate': 0.05}\n",
      "{'Accuracy': 0.866965620328849, 'Log Loss': 0.4750727710009906, 'F1 Score': 0.8884543499548204}\n"
     ]
    },
    {
     "name": "stderr",
     "output_type": "stream",
     "text": [
      "/Users/a/.pyenv/versions/3.10.0/lib/python3.10/site-packages/sklearn/metrics/_classification.py:2916: UserWarning: The y_pred values do not sum to one. Starting from 1.5 thiswill result in an error.\n",
      "  warnings.warn(\n"
     ]
    },
    {
     "data": {
      "image/png": "[encoded data removed]",
      "text/plain": [
       "<Figure size 640x480 with 2 Axes>"
      ]
     },
     "metadata": {},
     "output_type": "display_data"
    },
    {
     "data": {
      "image/png": "[encoded data removed]",
      "text/plain": [
       "<Figure size 640x480 with 2 Axes>"
      ]
     },
     "metadata": {},
     "output_type": "display_data"
    },
    {
     "data": {
      "image/png": "[encoded data removed]",
      "text/plain": [
       "<Figure size 640x480 with 2 Axes>"
      ]
     },
     "metadata": {},
     "output_type": "display_data"
    },
    {
     "data": {
      "image/png": "[encoded data removed]",
      "text/plain": [
       "<Figure size 640x480 with 2 Axes>"
      ]
     },
     "metadata": {},
     "output_type": "display_data"
    }
   ],
   "source": [
    "model = trainer.train_cat_boost_classifier(X_train, y_train, X_test, y_test, params)"
   ]
  }
 ],
 "metadata": {
  "kernelspec": {
   "display_name": "3.10.0",
   "language": "python",
   "name": "python3"
  },
  "language_info": {
   "codemirror_mode": {
    "name": "ipython",
    "version": 3
   },
   "file_extension": ".py",
   "mimetype": "text/x-python",
   "name": "python",
   "nbconvert_exporter": "python",
   "pygments_lexer": "ipython3",
   "version": "3.10.0"
  }
 },
 "nbformat": 4,
 "nbformat_minor": 2
}
