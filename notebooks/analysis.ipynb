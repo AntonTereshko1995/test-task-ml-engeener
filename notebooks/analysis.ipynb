{
 "cells": [
  {
   "cell_type": "markdown",
   "metadata": {},
   "source": [
    "Data Analysis and Visualization.\n",
    "This document is used to explore the data.\n",
    "\n",
    "Data visualization:\n",
    "- Plotting the number of elements in columns\n",
    "- Empty values ​​in rows\n",
    "- Category distributions\n",
    "- Checking rare categories\n",
    "\n",
    "Data analysis:\n",
    "- Counting frequencies for all labels\n",
    "- Counting the number of unique values\n",
    "- Percentage distribution\n",
    "- Normality test\n",
    "- Multi-Label Data\n"
   ]
  },
  {
   "cell_type": "code",
   "execution_count": 2,
   "metadata": {},
   "outputs": [],
   "source": [
    "import pandas as pd\n",
    "import matplotlib.pyplot as plt\n",
    "from collections import Counter"
   ]
  },
  {
   "cell_type": "code",
   "execution_count": 3,
   "metadata": {},
   "outputs": [],
   "source": [
    "data_path = \"../data/JobLevelData.xlsx\"\n",
    "data = pd.read_excel(data_path)"
   ]
  },
  {
   "cell_type": "code",
   "execution_count": 4,
   "metadata": {},
   "outputs": [
    {
     "data": {
      "text/html": [
       "<div>\n",
       "<style scoped>\n",
       "    .dataframe tbody tr th:only-of-type {\n",
       "        vertical-align: middle;\n",
       "    }\n",
       "\n",
       "    .dataframe tbody tr th {\n",
       "        vertical-align: top;\n",
       "    }\n",
       "\n",
       "    .dataframe thead th {\n",
       "        text-align: right;\n",
       "    }\n",
       "</style>\n",
       "<table border=\"1\" class=\"dataframe\">\n",
       "  <thead>\n",
       "    <tr style=\"text-align: right;\">\n",
       "      <th></th>\n",
       "      <th>Title</th>\n",
       "      <th>Column 1</th>\n",
       "      <th>Column 2</th>\n",
       "      <th>Column 3</th>\n",
       "      <th>Column 4</th>\n",
       "    </tr>\n",
       "  </thead>\n",
       "  <tbody>\n",
       "    <tr>\n",
       "      <th>0</th>\n",
       "      <td>Vice President / Director of Systems Engineering</td>\n",
       "      <td>Vice President</td>\n",
       "      <td>NaN</td>\n",
       "      <td>NaN</td>\n",
       "      <td>NaN</td>\n",
       "    </tr>\n",
       "    <tr>\n",
       "      <th>1</th>\n",
       "      <td>Systems Engineer; Systems Architect</td>\n",
       "      <td>Manager</td>\n",
       "      <td>Individual Contributor/Staff</td>\n",
       "      <td>NaN</td>\n",
       "      <td>NaN</td>\n",
       "    </tr>\n",
       "    <tr>\n",
       "      <th>2</th>\n",
       "      <td>Executive Director, Global IT Infrastructure /...</td>\n",
       "      <td>Director</td>\n",
       "      <td>Chief Officer</td>\n",
       "      <td>NaN</td>\n",
       "      <td>NaN</td>\n",
       "    </tr>\n",
       "    <tr>\n",
       "      <th>3</th>\n",
       "      <td>CTO/Executive Director of Technology Services</td>\n",
       "      <td>Director</td>\n",
       "      <td>Chief Officer</td>\n",
       "      <td>NaN</td>\n",
       "      <td>NaN</td>\n",
       "    </tr>\n",
       "    <tr>\n",
       "      <th>4</th>\n",
       "      <td>Vice President, CIO</td>\n",
       "      <td>Vice President</td>\n",
       "      <td>NaN</td>\n",
       "      <td>NaN</td>\n",
       "      <td>NaN</td>\n",
       "    </tr>\n",
       "  </tbody>\n",
       "</table>\n",
       "</div>"
      ],
      "text/plain": [
       "                                               Title        Column 1  \\\n",
       "0   Vice President / Director of Systems Engineering  Vice President   \n",
       "1                Systems Engineer; Systems Architect         Manager   \n",
       "2  Executive Director, Global IT Infrastructure /...        Director   \n",
       "3      CTO/Executive Director of Technology Services        Director   \n",
       "4                                Vice President, CIO  Vice President   \n",
       "\n",
       "                       Column 2 Column 3 Column 4  \n",
       "0                           NaN      NaN      NaN  \n",
       "1  Individual Contributor/Staff      NaN      NaN  \n",
       "2                 Chief Officer      NaN      NaN  \n",
       "3                 Chief Officer      NaN      NaN  \n",
       "4                           NaN      NaN      NaN  "
      ]
     },
     "execution_count": 4,
     "metadata": {},
     "output_type": "execute_result"
    }
   ],
   "source": [
    "data.head()"
   ]
  },
  {
   "cell_type": "code",
   "execution_count": 5,
   "metadata": {},
   "outputs": [
    {
     "data": {
      "text/plain": [
       "Title\n",
       "Vice President / Director of Systems Engineering                                     1\n",
       "Director, Brand and Content Strategies and Initiatives / Director Brand Marketing    1\n",
       "Team manager Software Engineer                                                       1\n",
       "IT Global Director Finance & GBS                                                     1\n",
       "Head of Managed IT Services                                                          1\n",
       "                                                                                    ..\n",
       "Vice President of Global Services                                                    1\n",
       "Senior Assistant HR Shared Services                                                  1\n",
       "Chief Delivery Officer                                                               1\n",
       "Assistant Manager Of Technology                                                      1\n",
       "Founder and Chief Executive Officer, Kindbody                                        1\n",
       "Name: count, Length: 2240, dtype: int64"
      ]
     },
     "execution_count": 5,
     "metadata": {},
     "output_type": "execute_result"
    }
   ],
   "source": [
    "data[\"Title\"].value_counts()"
   ]
  },
  {
   "cell_type": "code",
   "execution_count": 6,
   "metadata": {},
   "outputs": [
    {
     "data": {
      "text/plain": [
       "Column 1\n",
       "Individual Contributor/Staff    1039\n",
       "Director                         470\n",
       "Vice President                   403\n",
       "Manager                          190\n",
       "Chief Officer                    124\n",
       "Owner                              4\n",
       "Name: count, dtype: int64"
      ]
     },
     "execution_count": 6,
     "metadata": {},
     "output_type": "execute_result"
    }
   ],
   "source": [
    "# Counting the number of unique values\n",
    "data['Column 1'].value_counts()\n",
    "# data['Column 2'].value_counts()\n",
    "# data['Column 3'].value_counts()\n",
    "# data['Column 4'].value_counts()"
   ]
  },
  {
   "cell_type": "code",
   "execution_count": 46,
   "metadata": {},
   "outputs": [
    {
     "data": {
      "text/plain": [
       "Column 1\n",
       "Individual Contributor/Staff    46.591928\n",
       "Director                        21.076233\n",
       "Vice President                  18.071749\n",
       "Manager                          8.520179\n",
       "Chief Officer                    5.560538\n",
       "Owner                            0.179372\n",
       "Name: proportion, dtype: float64"
      ]
     },
     "execution_count": 46,
     "metadata": {},
     "output_type": "execute_result"
    }
   ],
   "source": [
    "# Percentage distribution\n",
    "data['Column 1'].value_counts(normalize=True) * 100\n",
    "# data['Column 2'].value_counts(normalize=True) * 100\n",
    "# data['Column 3'].value_counts(normalize=True) * 100\n",
    "# data['Column 4'].value_counts(normalize=True) * 100"
   ]
  },
  {
   "cell_type": "code",
   "execution_count": 15,
   "metadata": {},
   "outputs": [
    {
     "data": {
      "text/html": [
       "<div>\n",
       "<style scoped>\n",
       "    .dataframe tbody tr th:only-of-type {\n",
       "        vertical-align: middle;\n",
       "    }\n",
       "\n",
       "    .dataframe tbody tr th {\n",
       "        vertical-align: top;\n",
       "    }\n",
       "\n",
       "    .dataframe thead th {\n",
       "        text-align: right;\n",
       "    }\n",
       "</style>\n",
       "<table border=\"1\" class=\"dataframe\">\n",
       "  <thead>\n",
       "    <tr style=\"text-align: right;\">\n",
       "      <th></th>\n",
       "      <th>Title</th>\n",
       "      <th>Column 1</th>\n",
       "      <th>Column 2</th>\n",
       "      <th>Column 3</th>\n",
       "      <th>Column 4</th>\n",
       "    </tr>\n",
       "  </thead>\n",
       "  <tbody>\n",
       "    <tr>\n",
       "      <th>count</th>\n",
       "      <td>2240</td>\n",
       "      <td>2230</td>\n",
       "      <td>133</td>\n",
       "      <td>12</td>\n",
       "      <td>11</td>\n",
       "    </tr>\n",
       "    <tr>\n",
       "      <th>unique</th>\n",
       "      <td>2240</td>\n",
       "      <td>6</td>\n",
       "      <td>4</td>\n",
       "      <td>2</td>\n",
       "      <td>1</td>\n",
       "    </tr>\n",
       "    <tr>\n",
       "      <th>top</th>\n",
       "      <td>Vice President / Director of Systems Engineering</td>\n",
       "      <td>Individual Contributor/Staff</td>\n",
       "      <td>Individual Contributor/Staff</td>\n",
       "      <td>Individual Contributor/Staff</td>\n",
       "      <td>Director</td>\n",
       "    </tr>\n",
       "    <tr>\n",
       "      <th>freq</th>\n",
       "      <td>1</td>\n",
       "      <td>1039</td>\n",
       "      <td>55</td>\n",
       "      <td>11</td>\n",
       "      <td>11</td>\n",
       "    </tr>\n",
       "  </tbody>\n",
       "</table>\n",
       "</div>"
      ],
      "text/plain": [
       "                                                   Title  \\\n",
       "count                                               2240   \n",
       "unique                                              2240   \n",
       "top     Vice President / Director of Systems Engineering   \n",
       "freq                                                   1   \n",
       "\n",
       "                            Column 1                      Column 2  \\\n",
       "count                           2230                           133   \n",
       "unique                             6                             4   \n",
       "top     Individual Contributor/Staff  Individual Contributor/Staff   \n",
       "freq                            1039                            55   \n",
       "\n",
       "                            Column 3  Column 4  \n",
       "count                             12        11  \n",
       "unique                             2         1  \n",
       "top     Individual Contributor/Staff  Director  \n",
       "freq                              11        11  "
      ]
     },
     "execution_count": 15,
     "metadata": {},
     "output_type": "execute_result"
    }
   ],
   "source": [
    "data.describe()"
   ]
  },
  {
   "cell_type": "code",
   "execution_count": 49,
   "metadata": {},
   "outputs": [
    {
     "data": {
      "image/png": "[encoded data removed]",
      "text/plain": [
       "<Figure size 640x480 with 1 Axes>"
      ]
     },
     "metadata": {},
     "output_type": "display_data"
    }
   ],
   "source": [
    "# plotting the number of elements in columns\n",
    "\n",
    "data['Column 1'].value_counts().plot(kind='bar', color='skyblue', edgecolor='black')\n",
    "# data['Column 2'].value_counts().plot(kind='bar', color='skyblue', edgecolor='black')\n",
    "# data['Column 3'].value_counts().plot(kind='bar', color='skyblue', edgecolor='black')\n",
    "# data['Column 4'].value_counts().plot(kind='bar', color='skyblue', edgecolor='black')\n",
    "plt.xlabel(\"category\")\n",
    "plt.ylabel(\"count\")\n",
    "plt.show()"
   ]
  },
  {
   "cell_type": "code",
   "execution_count": 31,
   "metadata": {},
   "outputs": [
    {
     "data": {
      "image/png": "[encoded data removed]",
      "text/plain": [
       "<Figure size 640x480 with 1 Axes>"
      ]
     },
     "metadata": {},
     "output_type": "display_data"
    }
   ],
   "source": [
    "# empty values ​​in rows\n",
    "\n",
    "data.isnull().sum()\n",
    "\n",
    "import seaborn as sns\n",
    "sns.heatmap(data.isnull(), cbar=False, cmap='viridis')\n",
    "plt.title(\"Display empty lines\")\n",
    "plt.show()"
   ]
  },
  {
   "cell_type": "code",
   "execution_count": 32,
   "metadata": {},
   "outputs": [
    {
     "name": "stdout",
     "output_type": "stream",
     "text": [
      "Распределение в Column 1:\n",
      "Column 1\n",
      "Individual Contributor/Staff    1039\n",
      "Director                         470\n",
      "Vice President                   403\n",
      "Manager                          190\n",
      "Chief Officer                    124\n",
      "Owner                              4\n",
      "Name: count, dtype: int64\n",
      "\n",
      "Распределение в Column 2:\n",
      "Column 2\n",
      "Individual Contributor/Staff    55\n",
      "Chief Officer                   42\n",
      "Manager                         21\n",
      "Director                        15\n",
      "Name: count, dtype: int64\n",
      "\n",
      "Распределение в Column 3:\n",
      "Column 3\n",
      "Individual Contributor/Staff    11\n",
      "Director                         1\n",
      "Name: count, dtype: int64\n",
      "\n",
      "Распределение в Column 4:\n",
      "Column 4\n",
      "Director    11\n",
      "Name: count, dtype: int64\n",
      "\n"
     ]
    }
   ],
   "source": [
    "# Counting frequencies for all labels\n",
    "for column in ['Column 1', 'Column 2', 'Column 3', 'Column 4']:\n",
    "    print(f\"Распределение в {column}:\")\n",
    "    print(data[column].value_counts())\n",
    "    print()"
   ]
  },
  {
   "cell_type": "code",
   "execution_count": 35,
   "metadata": {},
   "outputs": [
    {
     "name": "stdout",
     "output_type": "stream",
     "text": [
      "Данные НЕ распределены нормально.\n"
     ]
    }
   ],
   "source": [
    "# Normality test\n",
    "\n",
    "from scipy.stats import shapiro\n",
    "\n",
    "# Тест на нормальность\n",
    "stat, p = shapiro(data['Column 1'])\n",
    "# stat, p = shapiro(data['Column 2'])\n",
    "# stat, p = shapiro(data['Column 3'])\n",
    "# stat, p = shapiro(data['Column 4'])\n",
    "if p > 0.05:\n",
    "    print(\"Normality.\")\n",
    "else:\n",
    "    print(\"Not normality.\")"
   ]
  },
  {
   "cell_type": "code",
   "execution_count": null,
   "metadata": {},
   "outputs": [
    {
     "name": "stdout",
     "output_type": "stream",
     "text": [
      "Counter({'Individual Contributor/Staff': 1039, 'Director': 470, 'Vice President': 403, 'Manager': 190, 'Chief Officer': 124, ' Individual Contributor/Staff': 66, ' Chief Officer': 42, ' Director': 27, ' Manager': 21, '': 10, 'Owner': 4})\n"
     ]
    }
   ],
   "source": [
    "# Multi-Label Data\n",
    "data['All_Labels'] = data[['Column 1', 'Column 2', 'Column 3', 'Column 4']].apply(lambda x: ', '.join(x.dropna()), axis=1)\n",
    "label_counts = Counter(','.join(data['All_Labels']).split(','))\n",
    "print(label_counts)"
   ]
  },
  {
   "cell_type": "code",
   "execution_count": null,
   "metadata": {},
   "outputs": [],
   "source": []
  }
 ],
 "metadata": {
  "kernelspec": {
   "display_name": "3.10.0",
   "language": "python",
   "name": "python3"
  },
  "language_info": {
   "codemirror_mode": {
    "name": "ipython",
    "version": 3
   },
   "file_extension": ".py",
   "mimetype": "text/x-python",
   "name": "python",
   "nbconvert_exporter": "python",
   "pygments_lexer": "ipython3",
   "version": "3.10.0"
  }
 },
 "nbformat": 4,
 "nbformat_minor": 2
}
